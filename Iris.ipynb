{
 "cells": [
  {
   "cell_type": "code",
   "execution_count": 2,
   "metadata": {},
   "outputs": [],
   "source": [
    "import pandas as pd\n",
    "import numpy as np\n",
    "import matplotlib.pyplot as plt\n",
    "import seaborn as sns\n",
    "from sklearn.linear_model import LinearRegression\n",
    "import statsmodels.formula.api as smf\n"
   ]
  },
  {
   "cell_type": "code",
   "execution_count": 3,
   "metadata": {},
   "outputs": [],
   "source": [
    "iris = pd.read_csv(\"Iris.csv\")"
   ]
  },
  {
   "cell_type": "markdown",
   "metadata": {},
   "source": [
    "1. Cree una copia del conjunto de datos original."
   ]
  },
  {
   "cell_type": "code",
   "execution_count": 4,
   "metadata": {},
   "outputs": [],
   "source": [
    "iris_copia = iris.copy()"
   ]
  },
  {
   "cell_type": "markdown",
   "metadata": {},
   "source": [
    "2. >De que tipo es cada una de las variables del conjunto de datos?"
   ]
  },
  {
   "cell_type": "code",
   "execution_count": 5,
   "metadata": {},
   "outputs": [
    {
     "name": "stdout",
     "output_type": "stream",
     "text": [
      "<class 'pandas.core.frame.DataFrame'>\n",
      "RangeIndex: 150 entries, 0 to 149\n",
      "Data columns (total 6 columns):\n",
      " #   Column         Non-Null Count  Dtype  \n",
      "---  ------         --------------  -----  \n",
      " 0   Id             150 non-null    int64  \n",
      " 1   SepalLengthCm  150 non-null    float64\n",
      " 2   SepalWidthCm   150 non-null    float64\n",
      " 3   PetalLengthCm  150 non-null    float64\n",
      " 4   PetalWidthCm   150 non-null    float64\n",
      " 5   Species        150 non-null    object \n",
      "dtypes: float64(4), int64(1), object(1)\n",
      "memory usage: 7.2+ KB\n"
     ]
    }
   ],
   "source": [
    "iris.info()"
   ]
  },
  {
   "cell_type": "markdown",
   "metadata": {},
   "source": [
    "3. Cambia los valores de las variables Sepal.Length y Sepal.Width de las 5\n",
    "primeras y las 10 \u0013ultimas observaciones por NA."
   ]
  },
  {
   "cell_type": "code",
   "execution_count": 6,
   "metadata": {},
   "outputs": [],
   "source": [
    "iris.loc[:4, [\"SepalLengthCm\"]] = np.nan\n",
    "iris.loc[:4, [\"SepalWidthCm\"]] = np.nan\n",
    "\n"
   ]
  },
  {
   "cell_type": "code",
   "execution_count": 7,
   "metadata": {},
   "outputs": [
    {
     "name": "stdout",
     "output_type": "stream",
     "text": [
      "0   NaN\n",
      "1   NaN\n",
      "2   NaN\n",
      "3   NaN\n",
      "4   NaN\n",
      "Name: SepalLengthCm, dtype: float64\n",
      "0   NaN\n",
      "1   NaN\n",
      "2   NaN\n",
      "3   NaN\n",
      "4   NaN\n",
      "Name: SepalWidthCm, dtype: float64\n"
     ]
    }
   ],
   "source": [
    "print(iris.loc[:4][\"SepalLengthCm\"])\n",
    "print(iris.loc[:4][\"SepalWidthCm\"])"
   ]
  },
  {
   "cell_type": "code",
   "execution_count": 8,
   "metadata": {},
   "outputs": [],
   "source": [
    "iris.loc[iris.shape[0]-10:, [\"SepalLengthCm\", \"SepalWidthCm\"]] = np.nan\n"
   ]
  },
  {
   "cell_type": "code",
   "execution_count": 9,
   "metadata": {},
   "outputs": [
    {
     "data": {
      "text/html": [
       "<div>\n",
       "<style scoped>\n",
       "    .dataframe tbody tr th:only-of-type {\n",
       "        vertical-align: middle;\n",
       "    }\n",
       "\n",
       "    .dataframe tbody tr th {\n",
       "        vertical-align: top;\n",
       "    }\n",
       "\n",
       "    .dataframe thead th {\n",
       "        text-align: right;\n",
       "    }\n",
       "</style>\n",
       "<table border=\"1\" class=\"dataframe\">\n",
       "  <thead>\n",
       "    <tr style=\"text-align: right;\">\n",
       "      <th></th>\n",
       "      <th>SepalLengthCm</th>\n",
       "      <th>SepalWidthCm</th>\n",
       "    </tr>\n",
       "  </thead>\n",
       "  <tbody>\n",
       "    <tr>\n",
       "      <th>140</th>\n",
       "      <td>NaN</td>\n",
       "      <td>NaN</td>\n",
       "    </tr>\n",
       "    <tr>\n",
       "      <th>141</th>\n",
       "      <td>NaN</td>\n",
       "      <td>NaN</td>\n",
       "    </tr>\n",
       "    <tr>\n",
       "      <th>142</th>\n",
       "      <td>NaN</td>\n",
       "      <td>NaN</td>\n",
       "    </tr>\n",
       "    <tr>\n",
       "      <th>143</th>\n",
       "      <td>NaN</td>\n",
       "      <td>NaN</td>\n",
       "    </tr>\n",
       "    <tr>\n",
       "      <th>144</th>\n",
       "      <td>NaN</td>\n",
       "      <td>NaN</td>\n",
       "    </tr>\n",
       "    <tr>\n",
       "      <th>145</th>\n",
       "      <td>NaN</td>\n",
       "      <td>NaN</td>\n",
       "    </tr>\n",
       "    <tr>\n",
       "      <th>146</th>\n",
       "      <td>NaN</td>\n",
       "      <td>NaN</td>\n",
       "    </tr>\n",
       "    <tr>\n",
       "      <th>147</th>\n",
       "      <td>NaN</td>\n",
       "      <td>NaN</td>\n",
       "    </tr>\n",
       "    <tr>\n",
       "      <th>148</th>\n",
       "      <td>NaN</td>\n",
       "      <td>NaN</td>\n",
       "    </tr>\n",
       "    <tr>\n",
       "      <th>149</th>\n",
       "      <td>NaN</td>\n",
       "      <td>NaN</td>\n",
       "    </tr>\n",
       "  </tbody>\n",
       "</table>\n",
       "</div>"
      ],
      "text/plain": [
       "     SepalLengthCm  SepalWidthCm\n",
       "140            NaN           NaN\n",
       "141            NaN           NaN\n",
       "142            NaN           NaN\n",
       "143            NaN           NaN\n",
       "144            NaN           NaN\n",
       "145            NaN           NaN\n",
       "146            NaN           NaN\n",
       "147            NaN           NaN\n",
       "148            NaN           NaN\n",
       "149            NaN           NaN"
      ]
     },
     "execution_count": 9,
     "metadata": {},
     "output_type": "execute_result"
    }
   ],
   "source": [
    "iris.loc[iris.shape[0]-10:, [\"SepalLengthCm\", \"SepalWidthCm\"]]"
   ]
  },
  {
   "cell_type": "markdown",
   "metadata": {},
   "source": [
    "Cambia esos valores primeros 5 registros NA por el ratio entre la nota que\n",
    "te mereces y la nota que esperas por este ejercicio y los \u0013ultimos 10 por\n",
    "la diferencia entra la nota que te mereces y la nota que esperas por este\n",
    "ejercicio."
   ]
  },
  {
   "cell_type": "code",
   "execution_count": 10,
   "metadata": {},
   "outputs": [],
   "source": [
    "# notas ratio y diferencias\n",
    "\n",
    "ratio = 9 / 8 \n",
    "\n",
    "diferencia = 9 - 8  \n",
    "\n",
    "#reemplazo \n",
    "iris.iloc[:5, 1:3] = iris.iloc[:5, 1:3].fillna(ratio)\n",
    "\n",
    "iris.iloc[-10:, 1:3] = iris.iloc[-10:, 1:3].fillna(diferencia)"
   ]
  },
  {
   "cell_type": "markdown",
   "metadata": {},
   "source": [
    "5. Del apartado 1 haga otra copia y cree una columna que se llame \\Total\"\n",
    "que sea la suma por \fla de las columnas num\u0013ericas.\n",
    "\n"
   ]
  },
  {
   "cell_type": "code",
   "execution_count": 11,
   "metadata": {},
   "outputs": [],
   "source": [
    "#segunda copia\n",
    "\n",
    "iris_copia2 = iris_copia.copy()\n",
    "\n",
    "# Creo la columna total con la suma de las otras columnas numericas (utilizamos axis=1 para que haga la suma de manera horizontal)\n",
    "\n",
    "iris_copia2[\"Total\"] = iris_copia2[[\"SepalLengthCm\", \"SepalWidthCm\", \"PetalLengthCm\", \"PetalWidthCm\"]].sum(axis=1)\n",
    "\n"
   ]
  },
  {
   "cell_type": "code",
   "execution_count": 12,
   "metadata": {},
   "outputs": [
    {
     "data": {
      "text/html": [
       "<div>\n",
       "<style scoped>\n",
       "    .dataframe tbody tr th:only-of-type {\n",
       "        vertical-align: middle;\n",
       "    }\n",
       "\n",
       "    .dataframe tbody tr th {\n",
       "        vertical-align: top;\n",
       "    }\n",
       "\n",
       "    .dataframe thead th {\n",
       "        text-align: right;\n",
       "    }\n",
       "</style>\n",
       "<table border=\"1\" class=\"dataframe\">\n",
       "  <thead>\n",
       "    <tr style=\"text-align: right;\">\n",
       "      <th></th>\n",
       "      <th>Id</th>\n",
       "      <th>SepalLengthCm</th>\n",
       "      <th>SepalWidthCm</th>\n",
       "      <th>PetalLengthCm</th>\n",
       "      <th>PetalWidthCm</th>\n",
       "      <th>Total</th>\n",
       "    </tr>\n",
       "  </thead>\n",
       "  <tbody>\n",
       "    <tr>\n",
       "      <th>count</th>\n",
       "      <td>150.000000</td>\n",
       "      <td>150.000000</td>\n",
       "      <td>150.000000</td>\n",
       "      <td>150.000000</td>\n",
       "      <td>150.000000</td>\n",
       "      <td>150.000000</td>\n",
       "    </tr>\n",
       "    <tr>\n",
       "      <th>mean</th>\n",
       "      <td>75.500000</td>\n",
       "      <td>5.843333</td>\n",
       "      <td>3.054000</td>\n",
       "      <td>3.758667</td>\n",
       "      <td>1.198667</td>\n",
       "      <td>13.854667</td>\n",
       "    </tr>\n",
       "    <tr>\n",
       "      <th>std</th>\n",
       "      <td>43.445368</td>\n",
       "      <td>0.828066</td>\n",
       "      <td>0.433594</td>\n",
       "      <td>1.764420</td>\n",
       "      <td>0.763161</td>\n",
       "      <td>3.128149</td>\n",
       "    </tr>\n",
       "    <tr>\n",
       "      <th>min</th>\n",
       "      <td>1.000000</td>\n",
       "      <td>4.300000</td>\n",
       "      <td>2.000000</td>\n",
       "      <td>1.000000</td>\n",
       "      <td>0.100000</td>\n",
       "      <td>8.400000</td>\n",
       "    </tr>\n",
       "    <tr>\n",
       "      <th>25%</th>\n",
       "      <td>38.250000</td>\n",
       "      <td>5.100000</td>\n",
       "      <td>2.800000</td>\n",
       "      <td>1.600000</td>\n",
       "      <td>0.300000</td>\n",
       "      <td>10.700000</td>\n",
       "    </tr>\n",
       "    <tr>\n",
       "      <th>50%</th>\n",
       "      <td>75.500000</td>\n",
       "      <td>5.800000</td>\n",
       "      <td>3.000000</td>\n",
       "      <td>4.350000</td>\n",
       "      <td>1.300000</td>\n",
       "      <td>14.300000</td>\n",
       "    </tr>\n",
       "    <tr>\n",
       "      <th>75%</th>\n",
       "      <td>112.750000</td>\n",
       "      <td>6.400000</td>\n",
       "      <td>3.300000</td>\n",
       "      <td>5.100000</td>\n",
       "      <td>1.800000</td>\n",
       "      <td>16.250000</td>\n",
       "    </tr>\n",
       "    <tr>\n",
       "      <th>max</th>\n",
       "      <td>150.000000</td>\n",
       "      <td>7.900000</td>\n",
       "      <td>4.400000</td>\n",
       "      <td>6.900000</td>\n",
       "      <td>2.500000</td>\n",
       "      <td>20.400000</td>\n",
       "    </tr>\n",
       "  </tbody>\n",
       "</table>\n",
       "</div>"
      ],
      "text/plain": [
       "               Id  SepalLengthCm  SepalWidthCm  PetalLengthCm  PetalWidthCm  \\\n",
       "count  150.000000     150.000000    150.000000     150.000000    150.000000   \n",
       "mean    75.500000       5.843333      3.054000       3.758667      1.198667   \n",
       "std     43.445368       0.828066      0.433594       1.764420      0.763161   \n",
       "min      1.000000       4.300000      2.000000       1.000000      0.100000   \n",
       "25%     38.250000       5.100000      2.800000       1.600000      0.300000   \n",
       "50%     75.500000       5.800000      3.000000       4.350000      1.300000   \n",
       "75%    112.750000       6.400000      3.300000       5.100000      1.800000   \n",
       "max    150.000000       7.900000      4.400000       6.900000      2.500000   \n",
       "\n",
       "            Total  \n",
       "count  150.000000  \n",
       "mean    13.854667  \n",
       "std      3.128149  \n",
       "min      8.400000  \n",
       "25%     10.700000  \n",
       "50%     14.300000  \n",
       "75%     16.250000  \n",
       "max     20.400000  "
      ]
     },
     "execution_count": 12,
     "metadata": {},
     "output_type": "execute_result"
    }
   ],
   "source": [
    "iris_copia2.describe()"
   ]
  },
  {
   "cell_type": "markdown",
   "metadata": {},
   "source": [
    "6. Calcule la suma total de todos los registros num\u0013ericos.\n",
    "7. Calcule la media total de todos los registros num\u0013ericos.\n",
    "8. Calcule la varianza total de todos los registros num\u0013ericos\n",
    "9. Calcula el coe\fciente de variaci\u0013on de todos los registros num\u0013ericos."
   ]
  },
  {
   "cell_type": "code",
   "execution_count": 13,
   "metadata": {},
   "outputs": [
    {
     "name": "stdout",
     "output_type": "stream",
     "text": [
      "la suma total es igual a: 2078.2\n",
      "la media total es igual a: 3.4636666666666662\n",
      "la variacion total es igual a: 3.896679888888889\n",
      "la desviacion estandar es igual a: 1.974000985027335\n",
      "El coeficiente de variacion es igual a: 0.5699165580869989\n"
     ]
    }
   ],
   "source": [
    "total_sum = iris_copia2[[\"SepalLengthCm\", \"SepalWidthCm\", \"PetalLengthCm\", \"PetalWidthCm\"]].sum().sum()\n",
    "print(\"la suma total es igual a:\",total_sum)\n",
    "\n",
    "total_mean = iris_copia2[[\"SepalLengthCm\", \"SepalWidthCm\", \"PetalLengthCm\", \"PetalWidthCm\"]].values.mean()\n",
    "print(\"la media total es igual a:\",total_mean)\n",
    "\n",
    "total_var = iris_copia2[[\"SepalLengthCm\", \"SepalWidthCm\", \"PetalLengthCm\", \"PetalWidthCm\"]].values.var()\n",
    "print(\"la variacion total es igual a:\",total_var)\n",
    "\n",
    "total_std = iris_copia2[[\"SepalLengthCm\", \"SepalWidthCm\", \"PetalLengthCm\", \"PetalWidthCm\"]].values.std()\n",
    "print(\"la desviacion estandar es igual a:\",total_std)\n",
    "\n",
    "coeficiente_var = total_std/total_mean\n",
    "print(\"El coeficiente de variacion es igual a:\",coeficiente_var)\n",
    "\n"
   ]
  },
  {
   "cell_type": "markdown",
   "metadata": {},
   "source": [
    "10. Elimine aquellas columnas que no pertenezcan al conjunto de datos original."
   ]
  },
  {
   "cell_type": "code",
   "execution_count": 14,
   "metadata": {},
   "outputs": [],
   "source": [
    "iris_copia2 = iris_copia2.drop(\"Total\",axis=1)\n"
   ]
  },
  {
   "cell_type": "code",
   "execution_count": 15,
   "metadata": {},
   "outputs": [
    {
     "data": {
      "text/html": [
       "<div>\n",
       "<style scoped>\n",
       "    .dataframe tbody tr th:only-of-type {\n",
       "        vertical-align: middle;\n",
       "    }\n",
       "\n",
       "    .dataframe tbody tr th {\n",
       "        vertical-align: top;\n",
       "    }\n",
       "\n",
       "    .dataframe thead th {\n",
       "        text-align: right;\n",
       "    }\n",
       "</style>\n",
       "<table border=\"1\" class=\"dataframe\">\n",
       "  <thead>\n",
       "    <tr style=\"text-align: right;\">\n",
       "      <th></th>\n",
       "      <th>Id</th>\n",
       "      <th>SepalLengthCm</th>\n",
       "      <th>SepalWidthCm</th>\n",
       "      <th>PetalLengthCm</th>\n",
       "      <th>PetalWidthCm</th>\n",
       "      <th>Species</th>\n",
       "    </tr>\n",
       "  </thead>\n",
       "  <tbody>\n",
       "    <tr>\n",
       "      <th>0</th>\n",
       "      <td>1</td>\n",
       "      <td>5.1</td>\n",
       "      <td>3.5</td>\n",
       "      <td>1.4</td>\n",
       "      <td>0.2</td>\n",
       "      <td>Iris-setosa</td>\n",
       "    </tr>\n",
       "    <tr>\n",
       "      <th>1</th>\n",
       "      <td>2</td>\n",
       "      <td>4.9</td>\n",
       "      <td>3.0</td>\n",
       "      <td>1.4</td>\n",
       "      <td>0.2</td>\n",
       "      <td>Iris-setosa</td>\n",
       "    </tr>\n",
       "    <tr>\n",
       "      <th>2</th>\n",
       "      <td>3</td>\n",
       "      <td>4.7</td>\n",
       "      <td>3.2</td>\n",
       "      <td>1.3</td>\n",
       "      <td>0.2</td>\n",
       "      <td>Iris-setosa</td>\n",
       "    </tr>\n",
       "    <tr>\n",
       "      <th>3</th>\n",
       "      <td>4</td>\n",
       "      <td>4.6</td>\n",
       "      <td>3.1</td>\n",
       "      <td>1.5</td>\n",
       "      <td>0.2</td>\n",
       "      <td>Iris-setosa</td>\n",
       "    </tr>\n",
       "    <tr>\n",
       "      <th>4</th>\n",
       "      <td>5</td>\n",
       "      <td>5.0</td>\n",
       "      <td>3.6</td>\n",
       "      <td>1.4</td>\n",
       "      <td>0.2</td>\n",
       "      <td>Iris-setosa</td>\n",
       "    </tr>\n",
       "    <tr>\n",
       "      <th>...</th>\n",
       "      <td>...</td>\n",
       "      <td>...</td>\n",
       "      <td>...</td>\n",
       "      <td>...</td>\n",
       "      <td>...</td>\n",
       "      <td>...</td>\n",
       "    </tr>\n",
       "    <tr>\n",
       "      <th>145</th>\n",
       "      <td>146</td>\n",
       "      <td>6.7</td>\n",
       "      <td>3.0</td>\n",
       "      <td>5.2</td>\n",
       "      <td>2.3</td>\n",
       "      <td>Iris-virginica</td>\n",
       "    </tr>\n",
       "    <tr>\n",
       "      <th>146</th>\n",
       "      <td>147</td>\n",
       "      <td>6.3</td>\n",
       "      <td>2.5</td>\n",
       "      <td>5.0</td>\n",
       "      <td>1.9</td>\n",
       "      <td>Iris-virginica</td>\n",
       "    </tr>\n",
       "    <tr>\n",
       "      <th>147</th>\n",
       "      <td>148</td>\n",
       "      <td>6.5</td>\n",
       "      <td>3.0</td>\n",
       "      <td>5.2</td>\n",
       "      <td>2.0</td>\n",
       "      <td>Iris-virginica</td>\n",
       "    </tr>\n",
       "    <tr>\n",
       "      <th>148</th>\n",
       "      <td>149</td>\n",
       "      <td>6.2</td>\n",
       "      <td>3.4</td>\n",
       "      <td>5.4</td>\n",
       "      <td>2.3</td>\n",
       "      <td>Iris-virginica</td>\n",
       "    </tr>\n",
       "    <tr>\n",
       "      <th>149</th>\n",
       "      <td>150</td>\n",
       "      <td>5.9</td>\n",
       "      <td>3.0</td>\n",
       "      <td>5.1</td>\n",
       "      <td>1.8</td>\n",
       "      <td>Iris-virginica</td>\n",
       "    </tr>\n",
       "  </tbody>\n",
       "</table>\n",
       "<p>150 rows × 6 columns</p>\n",
       "</div>"
      ],
      "text/plain": [
       "      Id  SepalLengthCm  SepalWidthCm  PetalLengthCm  PetalWidthCm  \\\n",
       "0      1            5.1           3.5            1.4           0.2   \n",
       "1      2            4.9           3.0            1.4           0.2   \n",
       "2      3            4.7           3.2            1.3           0.2   \n",
       "3      4            4.6           3.1            1.5           0.2   \n",
       "4      5            5.0           3.6            1.4           0.2   \n",
       "..   ...            ...           ...            ...           ...   \n",
       "145  146            6.7           3.0            5.2           2.3   \n",
       "146  147            6.3           2.5            5.0           1.9   \n",
       "147  148            6.5           3.0            5.2           2.0   \n",
       "148  149            6.2           3.4            5.4           2.3   \n",
       "149  150            5.9           3.0            5.1           1.8   \n",
       "\n",
       "            Species  \n",
       "0       Iris-setosa  \n",
       "1       Iris-setosa  \n",
       "2       Iris-setosa  \n",
       "3       Iris-setosa  \n",
       "4       Iris-setosa  \n",
       "..              ...  \n",
       "145  Iris-virginica  \n",
       "146  Iris-virginica  \n",
       "147  Iris-virginica  \n",
       "148  Iris-virginica  \n",
       "149  Iris-virginica  \n",
       "\n",
       "[150 rows x 6 columns]"
      ]
     },
     "execution_count": 15,
     "metadata": {},
     "output_type": "execute_result"
    }
   ],
   "source": [
    "iris_copia2"
   ]
  },
  {
   "cell_type": "markdown",
   "metadata": {},
   "source": [
    "11. Calcule las medias de cada una de las variables num\u0013ericas.\n",
    "12. Calcule las varianzas de cada una de las variables num\u0013ericas.\n"
   ]
  },
  {
   "cell_type": "code",
   "execution_count": 16,
   "metadata": {},
   "outputs": [
    {
     "name": "stdout",
     "output_type": "stream",
     "text": [
      "SepalLengthCm    5.843333\n",
      "SepalWidthCm     3.054000\n",
      "PetalLengthCm    3.758667\n",
      "PetalWidthCm     1.198667\n",
      "dtype: float64\n",
      "SepalLengthCm    0.685694\n",
      "SepalWidthCm     0.188004\n",
      "PetalLengthCm    3.113179\n",
      "PetalWidthCm     0.582414\n",
      "dtype: float64\n"
     ]
    }
   ],
   "source": [
    "iris_mean = iris_copia2[[\"SepalLengthCm\", \"SepalWidthCm\", \"PetalLengthCm\", \"PetalWidthCm\"]].mean()\n",
    "print(iris_mean)\n",
    "\n",
    "iris_var = iris_copia2[[\"SepalLengthCm\", \"SepalWidthCm\", \"PetalLengthCm\", \"PetalWidthCm\"]].var()\n",
    "print(iris_var)"
   ]
  },
  {
   "cell_type": "markdown",
   "metadata": {},
   "source": [
    "13. Calcule el coe\fciente de asimetr\u0013\u0010a de cada una de las variables num\u0013ericas."
   ]
  },
  {
   "cell_type": "code",
   "execution_count": 17,
   "metadata": {},
   "outputs": [
    {
     "name": "stdout",
     "output_type": "stream",
     "text": [
      "SepalLengthCm    0.314911\n",
      "SepalWidthCm     0.334053\n",
      "PetalLengthCm   -0.274464\n",
      "PetalWidthCm    -0.104997\n",
      "dtype: float64\n"
     ]
    }
   ],
   "source": [
    "iris_asim = iris_copia2[[\"SepalLengthCm\", \"SepalWidthCm\", \"PetalLengthCm\", \"PetalWidthCm\"]].skew()\n",
    "print(iris_asim)"
   ]
  },
  {
   "cell_type": "markdown",
   "metadata": {},
   "source": [
    "14. Calcule el coe\fciente de curtosis de cada una de las variables num\u0013ericas y\n",
    "de que tipo es."
   ]
  },
  {
   "cell_type": "code",
   "execution_count": 18,
   "metadata": {},
   "outputs": [
    {
     "name": "stdout",
     "output_type": "stream",
     "text": [
      "SepalLengthCm   -0.552064\n",
      "SepalWidthCm     0.290781\n",
      "PetalLengthCm   -1.401921\n",
      "PetalWidthCm    -1.339754\n",
      "dtype: float64\n"
     ]
    }
   ],
   "source": [
    "iris_kurtosis = iris_copia2[[\"SepalLengthCm\", \"SepalWidthCm\", \"PetalLengthCm\", \"PetalWidthCm\"]].kurtosis()\n",
    "print(iris_kurtosis)"
   ]
  },
  {
   "cell_type": "code",
   "execution_count": 19,
   "metadata": {},
   "outputs": [
    {
     "data": {
      "text/html": [
       "<div>\n",
       "<style scoped>\n",
       "    .dataframe tbody tr th:only-of-type {\n",
       "        vertical-align: middle;\n",
       "    }\n",
       "\n",
       "    .dataframe tbody tr th {\n",
       "        vertical-align: top;\n",
       "    }\n",
       "\n",
       "    .dataframe thead th {\n",
       "        text-align: right;\n",
       "    }\n",
       "</style>\n",
       "<table border=\"1\" class=\"dataframe\">\n",
       "  <thead>\n",
       "    <tr style=\"text-align: right;\">\n",
       "      <th></th>\n",
       "      <th>Kurtosis</th>\n",
       "      <th>tipo_kurtosis</th>\n",
       "    </tr>\n",
       "  </thead>\n",
       "  <tbody>\n",
       "    <tr>\n",
       "      <th>SepalLengthCm</th>\n",
       "      <td>-0.552064</td>\n",
       "      <td>platicurtica</td>\n",
       "    </tr>\n",
       "    <tr>\n",
       "      <th>SepalWidthCm</th>\n",
       "      <td>0.290781</td>\n",
       "      <td>leptocurtica</td>\n",
       "    </tr>\n",
       "    <tr>\n",
       "      <th>PetalLengthCm</th>\n",
       "      <td>-1.401921</td>\n",
       "      <td>platicurtica</td>\n",
       "    </tr>\n",
       "    <tr>\n",
       "      <th>PetalWidthCm</th>\n",
       "      <td>-1.339754</td>\n",
       "      <td>platicurtica</td>\n",
       "    </tr>\n",
       "  </tbody>\n",
       "</table>\n",
       "</div>"
      ],
      "text/plain": [
       "               Kurtosis tipo_kurtosis\n",
       "SepalLengthCm -0.552064  platicurtica\n",
       "SepalWidthCm   0.290781  leptocurtica\n",
       "PetalLengthCm -1.401921  platicurtica\n",
       "PetalWidthCm  -1.339754  platicurtica"
      ]
     },
     "execution_count": 19,
     "metadata": {},
     "output_type": "execute_result"
    }
   ],
   "source": [
    "# creo un df de los resultados de iris_kurtosis\n",
    "df_kurt = pd.DataFrame(iris_kurtosis, columns=[\"Kurtosis\"])\n",
    "df_kurt\n",
    "\n",
    "# agrego una columna con el resultado utilizando un lambda\n",
    "\n",
    "df_kurt[\"tipo_kurtosis\"] = df_kurt[\"Kurtosis\"].apply(lambda x: \"leptocurtica\" if x>0 else\n",
    "                                                                \"platicurtica\" if x<0 else\n",
    "                                                                \"mesocurtica\")  \n",
    "\n",
    "df_kurt"
   ]
  },
  {
   "cell_type": "markdown",
   "metadata": {},
   "source": [
    "15. Calcula la mediana de cada una de las variables num\u0013ericas."
   ]
  },
  {
   "cell_type": "code",
   "execution_count": 20,
   "metadata": {},
   "outputs": [
    {
     "name": "stdout",
     "output_type": "stream",
     "text": [
      "SepalLengthCm    5.80\n",
      "SepalWidthCm     3.00\n",
      "PetalLengthCm    4.35\n",
      "PetalWidthCm     1.30\n",
      "dtype: float64\n"
     ]
    }
   ],
   "source": [
    "iris_median = iris_copia2[[\"SepalLengthCm\", \"SepalWidthCm\", \"PetalLengthCm\", \"PetalWidthCm\"]].median()\n",
    "print(iris_median)"
   ]
  },
  {
   "cell_type": "markdown",
   "metadata": {},
   "source": []
  },
  {
   "cell_type": "code",
   "execution_count": 21,
   "metadata": {},
   "outputs": [
    {
     "data": {
      "image/png": "[encoded data removed]",
      "text/plain": [
       "<Figure size 640x480 with 1 Axes>"
      ]
     },
     "metadata": {},
     "output_type": "display_data"
    },
    {
     "data": {
      "image/png": "[encoded data removed]",
      "text/plain": [
       "<Figure size 640x480 with 1 Axes>"
      ]
     },
     "metadata": {},
     "output_type": "display_data"
    },
    {
     "data": {
      "image/png": "[encoded data removed]",
      "text/plain": [
       "<Figure size 640x480 with 1 Axes>"
      ]
     },
     "metadata": {},
     "output_type": "display_data"
    },
    {
     "data": {
      "image/png": "[encoded data removed]",
      "text/plain": [
       "<Figure size 640x480 with 1 Axes>"
      ]
     },
     "metadata": {},
     "output_type": "display_data"
    }
   ],
   "source": [
    "listado_columnas = [\"SepalLengthCm\", \"SepalWidthCm\", \"PetalLengthCm\", \"PetalWidthCm\"]\n",
    "\n",
    "for i in listado_columnas:\n",
    "    plt.hist(iris_copia2[i])\n",
    "    plt.xlabel(i)\n",
    "    plt.ylabel(\"Frecuencia\")\n",
    "    plt.show()"
   ]
  },
  {
   "cell_type": "markdown",
   "metadata": {},
   "source": [
    "17. Calcule los percentiles 20 y 60 de cada una de las variables num\u0013ericas."
   ]
  },
  {
   "cell_type": "code",
   "execution_count": 22,
   "metadata": {},
   "outputs": [
    {
     "name": "stdout",
     "output_type": "stream",
     "text": [
      "SepalLengthCm    5.0\n",
      "SepalWidthCm     2.7\n",
      "PetalLengthCm    1.5\n",
      "PetalWidthCm     0.2\n",
      "Name: 0.2, dtype: float64\n",
      "SepalLengthCm    6.10\n",
      "SepalWidthCm     3.10\n",
      "PetalLengthCm    4.64\n",
      "PetalWidthCm     1.50\n",
      "Name: 0.6, dtype: float64\n"
     ]
    }
   ],
   "source": [
    "iris_q20 = iris_copia2[[\"SepalLengthCm\", \"SepalWidthCm\", \"PetalLengthCm\", \"PetalWidthCm\"]].quantile(0.2)\n",
    "print(iris_q20)\n",
    "\n",
    "iris_q60 = iris_copia2[[\"SepalLengthCm\", \"SepalWidthCm\", \"PetalLengthCm\", \"PetalWidthCm\"]].quantile(0.6)\n",
    "print(iris_q60)"
   ]
  },
  {
   "cell_type": "markdown",
   "metadata": {},
   "source": [
    "18. Calcule el rango intercuart\u0013\u0010lico de cada una de las variables num\u0013ericas."
   ]
  },
  {
   "cell_type": "code",
   "execution_count": 23,
   "metadata": {},
   "outputs": [
    {
     "data": {
      "text/html": [
       "<div>\n",
       "<style scoped>\n",
       "    .dataframe tbody tr th:only-of-type {\n",
       "        vertical-align: middle;\n",
       "    }\n",
       "\n",
       "    .dataframe tbody tr th {\n",
       "        vertical-align: top;\n",
       "    }\n",
       "\n",
       "    .dataframe thead th {\n",
       "        text-align: right;\n",
       "    }\n",
       "</style>\n",
       "<table border=\"1\" class=\"dataframe\">\n",
       "  <thead>\n",
       "    <tr style=\"text-align: right;\">\n",
       "      <th></th>\n",
       "      <th>count</th>\n",
       "      <th>mean</th>\n",
       "      <th>std</th>\n",
       "      <th>min</th>\n",
       "      <th>25%</th>\n",
       "      <th>50%</th>\n",
       "      <th>75%</th>\n",
       "      <th>max</th>\n",
       "    </tr>\n",
       "  </thead>\n",
       "  <tbody>\n",
       "    <tr>\n",
       "      <th>SepalLengthCm</th>\n",
       "      <td>150.0</td>\n",
       "      <td>5.843333</td>\n",
       "      <td>0.828066</td>\n",
       "      <td>4.3</td>\n",
       "      <td>5.1</td>\n",
       "      <td>5.80</td>\n",
       "      <td>6.4</td>\n",
       "      <td>7.9</td>\n",
       "    </tr>\n",
       "    <tr>\n",
       "      <th>SepalWidthCm</th>\n",
       "      <td>150.0</td>\n",
       "      <td>3.054000</td>\n",
       "      <td>0.433594</td>\n",
       "      <td>2.0</td>\n",
       "      <td>2.8</td>\n",
       "      <td>3.00</td>\n",
       "      <td>3.3</td>\n",
       "      <td>4.4</td>\n",
       "    </tr>\n",
       "    <tr>\n",
       "      <th>PetalLengthCm</th>\n",
       "      <td>150.0</td>\n",
       "      <td>3.758667</td>\n",
       "      <td>1.764420</td>\n",
       "      <td>1.0</td>\n",
       "      <td>1.6</td>\n",
       "      <td>4.35</td>\n",
       "      <td>5.1</td>\n",
       "      <td>6.9</td>\n",
       "    </tr>\n",
       "    <tr>\n",
       "      <th>PetalWidthCm</th>\n",
       "      <td>150.0</td>\n",
       "      <td>1.198667</td>\n",
       "      <td>0.763161</td>\n",
       "      <td>0.1</td>\n",
       "      <td>0.3</td>\n",
       "      <td>1.30</td>\n",
       "      <td>1.8</td>\n",
       "      <td>2.5</td>\n",
       "    </tr>\n",
       "  </tbody>\n",
       "</table>\n",
       "</div>"
      ],
      "text/plain": [
       "               count      mean       std  min  25%   50%  75%  max\n",
       "SepalLengthCm  150.0  5.843333  0.828066  4.3  5.1  5.80  6.4  7.9\n",
       "SepalWidthCm   150.0  3.054000  0.433594  2.0  2.8  3.00  3.3  4.4\n",
       "PetalLengthCm  150.0  3.758667  1.764420  1.0  1.6  4.35  5.1  6.9\n",
       "PetalWidthCm   150.0  1.198667  0.763161  0.1  0.3  1.30  1.8  2.5"
      ]
     },
     "execution_count": 23,
     "metadata": {},
     "output_type": "execute_result"
    }
   ],
   "source": [
    "info_iris = iris_copia2[[\"SepalLengthCm\", \"SepalWidthCm\", \"PetalLengthCm\", \"PetalWidthCm\"]].describe().T\n",
    "info_iris"
   ]
  },
  {
   "cell_type": "code",
   "execution_count": 24,
   "metadata": {},
   "outputs": [
    {
     "name": "stdout",
     "output_type": "stream",
     "text": [
      "SepalLengthCm    1.3\n",
      "SepalWidthCm     0.5\n",
      "PetalLengthCm    3.5\n",
      "PetalWidthCm     1.5\n",
      "Name: RIQ, dtype: float64\n"
     ]
    }
   ],
   "source": [
    "info_iris[\"RIQ\"] = info_iris[\"75%\"] - info_iris[\"25%\"]\n",
    "print(info_iris[\"RIQ\"])"
   ]
  },
  {
   "cell_type": "markdown",
   "metadata": {},
   "source": [
    "19. Calcule la variable Limite Inferior que es el cuartil 1 menos 1,5 veces el\n",
    "rango intercuartilico de cada una de las variables num\u0013ericas."
   ]
  },
  {
   "cell_type": "code",
   "execution_count": 25,
   "metadata": {},
   "outputs": [
    {
     "name": "stdout",
     "output_type": "stream",
     "text": [
      "SepalLengthCm    3.15\n",
      "SepalWidthCm     2.05\n",
      "PetalLengthCm   -3.65\n",
      "PetalWidthCm    -1.95\n",
      "Name: Limite_Inferior, dtype: float64\n",
      "SepalLengthCm     8.35\n",
      "SepalWidthCm      4.05\n",
      "PetalLengthCm    10.35\n",
      "PetalWidthCm      4.05\n",
      "Name: Limite_superior, dtype: float64\n"
     ]
    }
   ],
   "source": [
    "info_iris[\"Limite_Inferior\"] = info_iris[\"25%\"] - 1.5 * info_iris[\"RIQ\"]\n",
    "print(info_iris[\"Limite_Inferior\"])\n",
    "\n",
    "info_iris[\"Limite_superior\"] = info_iris[\"75%\"] + 1.5 * info_iris[\"RIQ\"]\n",
    "print(info_iris[\"Limite_superior\"])"
   ]
  },
  {
   "cell_type": "markdown",
   "metadata": {},
   "source": [
    "19. Calcule la variable Limite Inferior que es el cuartil 1 menos 1,5 veces el\n",
    "rango intercuartilico de cada una de las variables num\u0013ericas.\n",
    "20. Calcule cuantos elementos se quedan por debajo de de cada Limite Inferior\n",
    "de cada una de las variables num\u0013ericas.\n",
    "21. Calcule la variable Limite Superior que es el cuartil 3 mas 1,5 veces el\n",
    "rango intercuartilico de cada una de las variables num\u0013ericas.\n",
    "22. Calcule cuantos elementos se quedan por encima de de cada Limite Superior\n",
    "de cada una de las variables num\u0013ericas."
   ]
  },
  {
   "cell_type": "code",
   "execution_count": 26,
   "metadata": {},
   "outputs": [
    {
     "name": "stdout",
     "output_type": "stream",
     "text": [
      "En la columna SepalLengthCm tenemos 0 valores menores al limite inferior\n",
      "En la columna SepalLengthCm tenemos 0 valores mayores al limite superior\n",
      "En la columna SepalWidthCm tenemos 1 valores menores al limite inferior\n",
      "En la columna SepalWidthCm tenemos 3 valores mayores al limite superior\n",
      "En la columna PetalLengthCm tenemos 0 valores menores al limite inferior\n",
      "En la columna PetalLengthCm tenemos 0 valores mayores al limite superior\n",
      "En la columna PetalWidthCm tenemos 0 valores menores al limite inferior\n",
      "En la columna PetalWidthCm tenemos 0 valores mayores al limite superior\n"
     ]
    }
   ],
   "source": [
    "\n",
    "listado_columnas\n",
    "\n",
    "#Creo un diccionario con los limites inferiores de cada una de las columnas\n",
    "dic_lim_inf = dict(info_iris[\"Limite_Inferior\"])\n",
    "#Creun un diccionario con los limites superiores de cada una de las columnas\n",
    "dic_lim_sup = dict(info_iris[\"Limite_superior\"])\n",
    "\n",
    "# con un for recorro las columnas y voy sumando los valores que son menores al limite inferior y los valores mayores al lim superior\n",
    "# luego los imprimo\n",
    "for i in listado_columnas:\n",
    "    valor_menor = sum(iris_copia2[i].values < dic_lim_inf[i])\n",
    "    print(f\"En la columna {i} tenemos {valor_menor} valores menores al limite inferior\")\n",
    "    valor_sup = sum(iris_copia2[i].values > dic_lim_sup[i])\n",
    "    print(f\"En la columna {i} tenemos {valor_sup} valores mayores al limite superior\")\n",
    "\n",
    "\n"
   ]
  },
  {
   "cell_type": "markdown",
   "metadata": {},
   "source": [
    "23. Cree un nuevo conjunto de datos donde por cada variable num\u0013erica que\n",
    "tiene el conjunto de datos, sustituya los registros que sean superiores o\n",
    "inferiores a los Limites Superior e Inferior respectivamente y por su l\u0013\u0010mite\n",
    "que le corresponde."
   ]
  },
  {
   "cell_type": "code",
   "execution_count": 27,
   "metadata": {},
   "outputs": [
    {
     "data": {
      "text/html": [
       "<div>\n",
       "<style scoped>\n",
       "    .dataframe tbody tr th:only-of-type {\n",
       "        vertical-align: middle;\n",
       "    }\n",
       "\n",
       "    .dataframe tbody tr th {\n",
       "        vertical-align: top;\n",
       "    }\n",
       "\n",
       "    .dataframe thead th {\n",
       "        text-align: right;\n",
       "    }\n",
       "</style>\n",
       "<table border=\"1\" class=\"dataframe\">\n",
       "  <thead>\n",
       "    <tr style=\"text-align: right;\">\n",
       "      <th></th>\n",
       "      <th>Id</th>\n",
       "      <th>SepalLengthCm</th>\n",
       "      <th>SepalWidthCm</th>\n",
       "      <th>PetalLengthCm</th>\n",
       "      <th>PetalWidthCm</th>\n",
       "      <th>Species</th>\n",
       "    </tr>\n",
       "  </thead>\n",
       "  <tbody>\n",
       "    <tr>\n",
       "      <th>0</th>\n",
       "      <td>1</td>\n",
       "      <td>5.1</td>\n",
       "      <td>3.5</td>\n",
       "      <td>1.4</td>\n",
       "      <td>0.2</td>\n",
       "      <td>Iris-setosa</td>\n",
       "    </tr>\n",
       "    <tr>\n",
       "      <th>1</th>\n",
       "      <td>2</td>\n",
       "      <td>4.9</td>\n",
       "      <td>3.0</td>\n",
       "      <td>1.4</td>\n",
       "      <td>0.2</td>\n",
       "      <td>Iris-setosa</td>\n",
       "    </tr>\n",
       "    <tr>\n",
       "      <th>2</th>\n",
       "      <td>3</td>\n",
       "      <td>4.7</td>\n",
       "      <td>3.2</td>\n",
       "      <td>1.3</td>\n",
       "      <td>0.2</td>\n",
       "      <td>Iris-setosa</td>\n",
       "    </tr>\n",
       "    <tr>\n",
       "      <th>3</th>\n",
       "      <td>4</td>\n",
       "      <td>4.6</td>\n",
       "      <td>3.1</td>\n",
       "      <td>1.5</td>\n",
       "      <td>0.2</td>\n",
       "      <td>Iris-setosa</td>\n",
       "    </tr>\n",
       "    <tr>\n",
       "      <th>4</th>\n",
       "      <td>5</td>\n",
       "      <td>5.0</td>\n",
       "      <td>3.6</td>\n",
       "      <td>1.4</td>\n",
       "      <td>0.2</td>\n",
       "      <td>Iris-setosa</td>\n",
       "    </tr>\n",
       "    <tr>\n",
       "      <th>...</th>\n",
       "      <td>...</td>\n",
       "      <td>...</td>\n",
       "      <td>...</td>\n",
       "      <td>...</td>\n",
       "      <td>...</td>\n",
       "      <td>...</td>\n",
       "    </tr>\n",
       "    <tr>\n",
       "      <th>145</th>\n",
       "      <td>146</td>\n",
       "      <td>6.7</td>\n",
       "      <td>3.0</td>\n",
       "      <td>5.2</td>\n",
       "      <td>2.3</td>\n",
       "      <td>Iris-virginica</td>\n",
       "    </tr>\n",
       "    <tr>\n",
       "      <th>146</th>\n",
       "      <td>147</td>\n",
       "      <td>6.3</td>\n",
       "      <td>2.5</td>\n",
       "      <td>5.0</td>\n",
       "      <td>1.9</td>\n",
       "      <td>Iris-virginica</td>\n",
       "    </tr>\n",
       "    <tr>\n",
       "      <th>147</th>\n",
       "      <td>148</td>\n",
       "      <td>6.5</td>\n",
       "      <td>3.0</td>\n",
       "      <td>5.2</td>\n",
       "      <td>2.0</td>\n",
       "      <td>Iris-virginica</td>\n",
       "    </tr>\n",
       "    <tr>\n",
       "      <th>148</th>\n",
       "      <td>149</td>\n",
       "      <td>6.2</td>\n",
       "      <td>3.4</td>\n",
       "      <td>5.4</td>\n",
       "      <td>2.3</td>\n",
       "      <td>Iris-virginica</td>\n",
       "    </tr>\n",
       "    <tr>\n",
       "      <th>149</th>\n",
       "      <td>150</td>\n",
       "      <td>5.9</td>\n",
       "      <td>3.0</td>\n",
       "      <td>5.1</td>\n",
       "      <td>1.8</td>\n",
       "      <td>Iris-virginica</td>\n",
       "    </tr>\n",
       "  </tbody>\n",
       "</table>\n",
       "<p>150 rows × 6 columns</p>\n",
       "</div>"
      ],
      "text/plain": [
       "      Id  SepalLengthCm  SepalWidthCm  PetalLengthCm  PetalWidthCm  \\\n",
       "0      1            5.1           3.5            1.4           0.2   \n",
       "1      2            4.9           3.0            1.4           0.2   \n",
       "2      3            4.7           3.2            1.3           0.2   \n",
       "3      4            4.6           3.1            1.5           0.2   \n",
       "4      5            5.0           3.6            1.4           0.2   \n",
       "..   ...            ...           ...            ...           ...   \n",
       "145  146            6.7           3.0            5.2           2.3   \n",
       "146  147            6.3           2.5            5.0           1.9   \n",
       "147  148            6.5           3.0            5.2           2.0   \n",
       "148  149            6.2           3.4            5.4           2.3   \n",
       "149  150            5.9           3.0            5.1           1.8   \n",
       "\n",
       "            Species  \n",
       "0       Iris-setosa  \n",
       "1       Iris-setosa  \n",
       "2       Iris-setosa  \n",
       "3       Iris-setosa  \n",
       "4       Iris-setosa  \n",
       "..              ...  \n",
       "145  Iris-virginica  \n",
       "146  Iris-virginica  \n",
       "147  Iris-virginica  \n",
       "148  Iris-virginica  \n",
       "149  Iris-virginica  \n",
       "\n",
       "[150 rows x 6 columns]"
      ]
     },
     "execution_count": 27,
     "metadata": {},
     "output_type": "execute_result"
    }
   ],
   "source": [
    "listado_columnas\n",
    "dic_lim_inf\n",
    "dic_lim_sup\n",
    "\n",
    "# creo una copia\n",
    "df_iris3 = iris_copia2.copy()\n",
    "\n",
    "# con un for recorro todas las columnas y con un lambda verifico si el valor es mayor al limite superior, que lo reemplace por el lim superior. Si es menor al limite infoerior que lo reemplace por el limite inf, si no que quede ese valor\n",
    "for i in listado_columnas:\n",
    "    df_iris3[i]=df_iris3[i].apply(lambda x: dic_lim_sup[i] if x > dic_lim_sup[i] else\n",
    "                                  dic_lim_inf[i] if x < dic_lim_inf[i] else\n",
    "                                   x )\n",
    "    \n",
    "df_iris3"
   ]
  },
  {
   "cell_type": "markdown",
   "metadata": {},
   "source": [
    "Calcule el coe\fciente de correlaci\u0013on lineal de cada una de las variables\n",
    "originales con otra original."
   ]
  },
  {
   "cell_type": "code",
   "execution_count": 28,
   "metadata": {},
   "outputs": [
    {
     "data": {
      "text/html": [
       "<div>\n",
       "<style scoped>\n",
       "    .dataframe tbody tr th:only-of-type {\n",
       "        vertical-align: middle;\n",
       "    }\n",
       "\n",
       "    .dataframe tbody tr th {\n",
       "        vertical-align: top;\n",
       "    }\n",
       "\n",
       "    .dataframe thead th {\n",
       "        text-align: right;\n",
       "    }\n",
       "</style>\n",
       "<table border=\"1\" class=\"dataframe\">\n",
       "  <thead>\n",
       "    <tr style=\"text-align: right;\">\n",
       "      <th></th>\n",
       "      <th>SepalLengthCm</th>\n",
       "      <th>SepalWidthCm</th>\n",
       "      <th>PetalLengthCm</th>\n",
       "      <th>PetalWidthCm</th>\n",
       "    </tr>\n",
       "  </thead>\n",
       "  <tbody>\n",
       "    <tr>\n",
       "      <th>SepalLengthCm</th>\n",
       "      <td>1.000000</td>\n",
       "      <td>-0.110343</td>\n",
       "      <td>0.871754</td>\n",
       "      <td>0.817954</td>\n",
       "    </tr>\n",
       "    <tr>\n",
       "      <th>SepalWidthCm</th>\n",
       "      <td>-0.110343</td>\n",
       "      <td>1.000000</td>\n",
       "      <td>-0.419823</td>\n",
       "      <td>-0.355582</td>\n",
       "    </tr>\n",
       "    <tr>\n",
       "      <th>PetalLengthCm</th>\n",
       "      <td>0.871754</td>\n",
       "      <td>-0.419823</td>\n",
       "      <td>1.000000</td>\n",
       "      <td>0.962757</td>\n",
       "    </tr>\n",
       "    <tr>\n",
       "      <th>PetalWidthCm</th>\n",
       "      <td>0.817954</td>\n",
       "      <td>-0.355582</td>\n",
       "      <td>0.962757</td>\n",
       "      <td>1.000000</td>\n",
       "    </tr>\n",
       "  </tbody>\n",
       "</table>\n",
       "</div>"
      ],
      "text/plain": [
       "               SepalLengthCm  SepalWidthCm  PetalLengthCm  PetalWidthCm\n",
       "SepalLengthCm       1.000000     -0.110343       0.871754      0.817954\n",
       "SepalWidthCm       -0.110343      1.000000      -0.419823     -0.355582\n",
       "PetalLengthCm       0.871754     -0.419823       1.000000      0.962757\n",
       "PetalWidthCm        0.817954     -0.355582       0.962757      1.000000"
      ]
     },
     "execution_count": 28,
     "metadata": {},
     "output_type": "execute_result"
    }
   ],
   "source": [
    "correlaciones = df_iris3[listado_columnas].corr()\n",
    "correlaciones"
   ]
  },
  {
   "cell_type": "markdown",
   "metadata": {},
   "source": [
    "25. Dibuje un mapa de calor de dichas correlaciones."
   ]
  },
  {
   "cell_type": "code",
   "execution_count": 29,
   "metadata": {},
   "outputs": [
    {
     "data": {
      "image/png": "[encoded data removed]",
      "text/plain": [
       "<Figure size 1000x800 with 2 Axes>"
      ]
     },
     "metadata": {},
     "output_type": "display_data"
    }
   ],
   "source": [
    "plt.figure(figsize=(10,8))\n",
    "sns.heatmap(correlaciones, cmap='coolwarm')\n",
    "plt.show()"
   ]
  },
  {
   "cell_type": "markdown",
   "metadata": {},
   "source": [
    "Cree una funci\u0013on donde muestre por pantalla la variable que m\u0013as correlaci\u0013on\n",
    "tenga con otra variable."
   ]
  },
  {
   "cell_type": "code",
   "execution_count": 30,
   "metadata": {},
   "outputs": [],
   "source": [
    "\n",
    "def corr_maxima(df_corr):\n",
    "\n",
    "    \"\"\"\n",
    "    Identifica las columnas en un DataFrame de correlación que tienen la correlación más alta entre sí y devuelve los nombres de las columnas\n",
    "    \n",
    "    Parametros: (df de correlaciones)\n",
    "\n",
    "    \"\"\"\n",
    "    df_sin_1 = df_corr.replace(1,0)\n",
    "    valor_max = df_sin_1.max().max()\n",
    "    posicion = np.where(df_sin_1 == valor_max)\n",
    "    return (df_corr.index[posicion[0]], df_corr.columns[posicion[1]])\n"
   ]
  },
  {
   "cell_type": "code",
   "execution_count": 31,
   "metadata": {},
   "outputs": [
    {
     "data": {
      "text/plain": [
       "(Index(['PetalLengthCm', 'PetalWidthCm'], dtype='object'),\n",
       " Index(['PetalWidthCm', 'PetalLengthCm'], dtype='object'))"
      ]
     },
     "execution_count": 31,
     "metadata": {},
     "output_type": "execute_result"
    }
   ],
   "source": [
    "corr_maxima(correlaciones)"
   ]
  },
  {
   "cell_type": "markdown",
   "metadata": {},
   "source": [
    "27. Calcule la recta de regresi\u0013on entre las dos variables que m\u0013as correlaci\u0013on\n",
    "lineal tenga en valor absoluto."
   ]
  },
  {
   "cell_type": "code",
   "execution_count": 32,
   "metadata": {},
   "outputs": [],
   "source": [
    "modelo=smf.ols(\"PetalLengthCm~PetalWidthCm\",data=df_iris3).fit()"
   ]
  },
  {
   "cell_type": "code",
   "execution_count": 33,
   "metadata": {},
   "outputs": [],
   "source": [
    "parametros=modelo.params.to_dict()"
   ]
  },
  {
   "cell_type": "code",
   "execution_count": 34,
   "metadata": {},
   "outputs": [
    {
     "data": {
      "text/html": [
       "<table class=\"simpletable\">\n",
       "<caption>OLS Regression Results</caption>\n",
       "<tr>\n",
       "  <th>Dep. Variable:</th>      <td>PetalLengthCm</td>  <th>  R-squared:         </th> <td>   0.927</td>\n",
       "</tr>\n",
       "<tr>\n",
       "  <th>Model:</th>                   <td>OLS</td>       <th>  Adj. R-squared:    </th> <td>   0.926</td>\n",
       "</tr>\n",
       "<tr>\n",
       "  <th>Method:</th>             <td>Least Squares</td>  <th>  F-statistic:       </th> <td>   1877.</td>\n",
       "</tr>\n",
       "<tr>\n",
       "  <th>Date:</th>             <td>Mon, 21 Aug 2023</td> <th>  Prob (F-statistic):</th> <td>5.78e-86</td>\n",
       "</tr>\n",
       "<tr>\n",
       "  <th>Time:</th>                 <td>12:46:14</td>     <th>  Log-Likelihood:    </th> <td> -101.32</td>\n",
       "</tr>\n",
       "<tr>\n",
       "  <th>No. Observations:</th>      <td>   150</td>      <th>  AIC:               </th> <td>   206.6</td>\n",
       "</tr>\n",
       "<tr>\n",
       "  <th>Df Residuals:</th>          <td>   148</td>      <th>  BIC:               </th> <td>   212.7</td>\n",
       "</tr>\n",
       "<tr>\n",
       "  <th>Df Model:</th>              <td>     1</td>      <th>                     </th>     <td> </td>   \n",
       "</tr>\n",
       "<tr>\n",
       "  <th>Covariance Type:</th>      <td>nonrobust</td>    <th>                     </th>     <td> </td>   \n",
       "</tr>\n",
       "</table>\n",
       "<table class=\"simpletable\">\n",
       "<tr>\n",
       "        <td></td>          <th>coef</th>     <th>std err</th>      <th>t</th>      <th>P>|t|</th>  <th>[0.025</th>    <th>0.975]</th>  \n",
       "</tr>\n",
       "<tr>\n",
       "  <th>Intercept</th>    <td>    1.0906</td> <td>    0.073</td> <td>   14.951</td> <td> 0.000</td> <td>    0.946</td> <td>    1.235</td>\n",
       "</tr>\n",
       "<tr>\n",
       "  <th>PetalWidthCm</th> <td>    2.2259</td> <td>    0.051</td> <td>   43.320</td> <td> 0.000</td> <td>    2.124</td> <td>    2.327</td>\n",
       "</tr>\n",
       "</table>\n",
       "<table class=\"simpletable\">\n",
       "<tr>\n",
       "  <th>Omnibus:</th>       <td> 2.326</td> <th>  Durbin-Watson:     </th> <td>   1.437</td>\n",
       "</tr>\n",
       "<tr>\n",
       "  <th>Prob(Omnibus):</th> <td> 0.313</td> <th>  Jarque-Bera (JB):  </th> <td>   1.852</td>\n",
       "</tr>\n",
       "<tr>\n",
       "  <th>Skew:</th>          <td> 0.210</td> <th>  Prob(JB):          </th> <td>   0.396</td>\n",
       "</tr>\n",
       "<tr>\n",
       "  <th>Kurtosis:</th>      <td> 3.347</td> <th>  Cond. No.          </th> <td>    3.69</td>\n",
       "</tr>\n",
       "</table><br/><br/>Notes:<br/>[1] Standard Errors assume that the covariance matrix of the errors is correctly specified."
      ],
      "text/latex": [
       "\\begin{center}\n",
       "\\begin{tabular}{lclc}\n",
       "\\toprule\n",
       "\\textbf{Dep. Variable:}    &  PetalLengthCm   & \\textbf{  R-squared:         } &     0.927   \\\\\n",
       "\\textbf{Model:}            &       OLS        & \\textbf{  Adj. R-squared:    } &     0.926   \\\\\n",
       "\\textbf{Method:}           &  Least Squares   & \\textbf{  F-statistic:       } &     1877.   \\\\\n",
       "\\textbf{Date:}             & Mon, 21 Aug 2023 & \\textbf{  Prob (F-statistic):} &  5.78e-86   \\\\\n",
       "\\textbf{Time:}             &     12:46:14     & \\textbf{  Log-Likelihood:    } &   -101.32   \\\\\n",
       "\\textbf{No. Observations:} &         150      & \\textbf{  AIC:               } &     206.6   \\\\\n",
       "\\textbf{Df Residuals:}     &         148      & \\textbf{  BIC:               } &     212.7   \\\\\n",
       "\\textbf{Df Model:}         &           1      & \\textbf{                     } &             \\\\\n",
       "\\textbf{Covariance Type:}  &    nonrobust     & \\textbf{                     } &             \\\\\n",
       "\\bottomrule\n",
       "\\end{tabular}\n",
       "\\begin{tabular}{lcccccc}\n",
       "                      & \\textbf{coef} & \\textbf{std err} & \\textbf{t} & \\textbf{P$> |$t$|$} & \\textbf{[0.025} & \\textbf{0.975]}  \\\\\n",
       "\\midrule\n",
       "\\textbf{Intercept}    &       1.0906  &        0.073     &    14.951  &         0.000        &        0.946    &        1.235     \\\\\n",
       "\\textbf{PetalWidthCm} &       2.2259  &        0.051     &    43.320  &         0.000        &        2.124    &        2.327     \\\\\n",
       "\\bottomrule\n",
       "\\end{tabular}\n",
       "\\begin{tabular}{lclc}\n",
       "\\textbf{Omnibus:}       &  2.326 & \\textbf{  Durbin-Watson:     } &    1.437  \\\\\n",
       "\\textbf{Prob(Omnibus):} &  0.313 & \\textbf{  Jarque-Bera (JB):  } &    1.852  \\\\\n",
       "\\textbf{Skew:}          &  0.210 & \\textbf{  Prob(JB):          } &    0.396  \\\\\n",
       "\\textbf{Kurtosis:}      &  3.347 & \\textbf{  Cond. No.          } &     3.69  \\\\\n",
       "\\bottomrule\n",
       "\\end{tabular}\n",
       "%\\caption{OLS Regression Results}\n",
       "\\end{center}\n",
       "\n",
       "Notes: \\newline\n",
       " [1] Standard Errors assume that the covariance matrix of the errors is correctly specified."
      ],
      "text/plain": [
       "<class 'statsmodels.iolib.summary.Summary'>\n",
       "\"\"\"\n",
       "                            OLS Regression Results                            \n",
       "==============================================================================\n",
       "Dep. Variable:          PetalLengthCm   R-squared:                       0.927\n",
       "Model:                            OLS   Adj. R-squared:                  0.926\n",
       "Method:                 Least Squares   F-statistic:                     1877.\n",
       "Date:                Mon, 21 Aug 2023   Prob (F-statistic):           5.78e-86\n",
       "Time:                        12:46:14   Log-Likelihood:                -101.32\n",
       "No. Observations:                 150   AIC:                             206.6\n",
       "Df Residuals:                     148   BIC:                             212.7\n",
       "Df Model:                           1                                         \n",
       "Covariance Type:            nonrobust                                         \n",
       "================================================================================\n",
       "                   coef    std err          t      P>|t|      [0.025      0.975]\n",
       "--------------------------------------------------------------------------------\n",
       "Intercept        1.0906      0.073     14.951      0.000       0.946       1.235\n",
       "PetalWidthCm     2.2259      0.051     43.320      0.000       2.124       2.327\n",
       "==============================================================================\n",
       "Omnibus:                        2.326   Durbin-Watson:                   1.437\n",
       "Prob(Omnibus):                  0.313   Jarque-Bera (JB):                1.852\n",
       "Skew:                           0.210   Prob(JB):                        0.396\n",
       "Kurtosis:                       3.347   Cond. No.                         3.69\n",
       "==============================================================================\n",
       "\n",
       "Notes:\n",
       "[1] Standard Errors assume that the covariance matrix of the errors is correctly specified.\n",
       "\"\"\""
      ]
     },
     "execution_count": 34,
     "metadata": {},
     "output_type": "execute_result"
    }
   ],
   "source": [
    "modelo.summary()"
   ]
  },
  {
   "cell_type": "code",
   "execution_count": 35,
   "metadata": {},
   "outputs": [
    {
     "data": {
      "text/html": [
       "<div>\n",
       "<style scoped>\n",
       "    .dataframe tbody tr th:only-of-type {\n",
       "        vertical-align: middle;\n",
       "    }\n",
       "\n",
       "    .dataframe tbody tr th {\n",
       "        vertical-align: top;\n",
       "    }\n",
       "\n",
       "    .dataframe thead th {\n",
       "        text-align: right;\n",
       "    }\n",
       "</style>\n",
       "<table border=\"1\" class=\"dataframe\">\n",
       "  <thead>\n",
       "    <tr style=\"text-align: right;\">\n",
       "      <th></th>\n",
       "      <th>Id</th>\n",
       "      <th>SepalLengthCm</th>\n",
       "      <th>SepalWidthCm</th>\n",
       "      <th>PetalLengthCm</th>\n",
       "      <th>PetalWidthCm</th>\n",
       "      <th>Species</th>\n",
       "      <th>PetalLengthCm_modelo</th>\n",
       "    </tr>\n",
       "  </thead>\n",
       "  <tbody>\n",
       "    <tr>\n",
       "      <th>0</th>\n",
       "      <td>1</td>\n",
       "      <td>5.1</td>\n",
       "      <td>3.5</td>\n",
       "      <td>1.4</td>\n",
       "      <td>0.2</td>\n",
       "      <td>Iris-setosa</td>\n",
       "      <td>1.535749</td>\n",
       "    </tr>\n",
       "    <tr>\n",
       "      <th>1</th>\n",
       "      <td>2</td>\n",
       "      <td>4.9</td>\n",
       "      <td>3.0</td>\n",
       "      <td>1.4</td>\n",
       "      <td>0.2</td>\n",
       "      <td>Iris-setosa</td>\n",
       "      <td>1.535749</td>\n",
       "    </tr>\n",
       "    <tr>\n",
       "      <th>2</th>\n",
       "      <td>3</td>\n",
       "      <td>4.7</td>\n",
       "      <td>3.2</td>\n",
       "      <td>1.3</td>\n",
       "      <td>0.2</td>\n",
       "      <td>Iris-setosa</td>\n",
       "      <td>1.535749</td>\n",
       "    </tr>\n",
       "    <tr>\n",
       "      <th>3</th>\n",
       "      <td>4</td>\n",
       "      <td>4.6</td>\n",
       "      <td>3.1</td>\n",
       "      <td>1.5</td>\n",
       "      <td>0.2</td>\n",
       "      <td>Iris-setosa</td>\n",
       "      <td>1.535749</td>\n",
       "    </tr>\n",
       "    <tr>\n",
       "      <th>4</th>\n",
       "      <td>5</td>\n",
       "      <td>5.0</td>\n",
       "      <td>3.6</td>\n",
       "      <td>1.4</td>\n",
       "      <td>0.2</td>\n",
       "      <td>Iris-setosa</td>\n",
       "      <td>1.535749</td>\n",
       "    </tr>\n",
       "    <tr>\n",
       "      <th>...</th>\n",
       "      <td>...</td>\n",
       "      <td>...</td>\n",
       "      <td>...</td>\n",
       "      <td>...</td>\n",
       "      <td>...</td>\n",
       "      <td>...</td>\n",
       "      <td>...</td>\n",
       "    </tr>\n",
       "    <tr>\n",
       "      <th>145</th>\n",
       "      <td>146</td>\n",
       "      <td>6.7</td>\n",
       "      <td>3.0</td>\n",
       "      <td>5.2</td>\n",
       "      <td>2.3</td>\n",
       "      <td>Iris-virginica</td>\n",
       "      <td>6.210108</td>\n",
       "    </tr>\n",
       "    <tr>\n",
       "      <th>146</th>\n",
       "      <td>147</td>\n",
       "      <td>6.3</td>\n",
       "      <td>2.5</td>\n",
       "      <td>5.0</td>\n",
       "      <td>1.9</td>\n",
       "      <td>Iris-virginica</td>\n",
       "      <td>5.319754</td>\n",
       "    </tr>\n",
       "    <tr>\n",
       "      <th>147</th>\n",
       "      <td>148</td>\n",
       "      <td>6.5</td>\n",
       "      <td>3.0</td>\n",
       "      <td>5.2</td>\n",
       "      <td>2.0</td>\n",
       "      <td>Iris-virginica</td>\n",
       "      <td>5.542343</td>\n",
       "    </tr>\n",
       "    <tr>\n",
       "      <th>148</th>\n",
       "      <td>149</td>\n",
       "      <td>6.2</td>\n",
       "      <td>3.4</td>\n",
       "      <td>5.4</td>\n",
       "      <td>2.3</td>\n",
       "      <td>Iris-virginica</td>\n",
       "      <td>6.210108</td>\n",
       "    </tr>\n",
       "    <tr>\n",
       "      <th>149</th>\n",
       "      <td>150</td>\n",
       "      <td>5.9</td>\n",
       "      <td>3.0</td>\n",
       "      <td>5.1</td>\n",
       "      <td>1.8</td>\n",
       "      <td>Iris-virginica</td>\n",
       "      <td>5.097166</td>\n",
       "    </tr>\n",
       "  </tbody>\n",
       "</table>\n",
       "<p>150 rows × 7 columns</p>\n",
       "</div>"
      ],
      "text/plain": [
       "      Id  SepalLengthCm  SepalWidthCm  PetalLengthCm  PetalWidthCm  \\\n",
       "0      1            5.1           3.5            1.4           0.2   \n",
       "1      2            4.9           3.0            1.4           0.2   \n",
       "2      3            4.7           3.2            1.3           0.2   \n",
       "3      4            4.6           3.1            1.5           0.2   \n",
       "4      5            5.0           3.6            1.4           0.2   \n",
       "..   ...            ...           ...            ...           ...   \n",
       "145  146            6.7           3.0            5.2           2.3   \n",
       "146  147            6.3           2.5            5.0           1.9   \n",
       "147  148            6.5           3.0            5.2           2.0   \n",
       "148  149            6.2           3.4            5.4           2.3   \n",
       "149  150            5.9           3.0            5.1           1.8   \n",
       "\n",
       "            Species  PetalLengthCm_modelo  \n",
       "0       Iris-setosa              1.535749  \n",
       "1       Iris-setosa              1.535749  \n",
       "2       Iris-setosa              1.535749  \n",
       "3       Iris-setosa              1.535749  \n",
       "4       Iris-setosa              1.535749  \n",
       "..              ...                   ...  \n",
       "145  Iris-virginica              6.210108  \n",
       "146  Iris-virginica              5.319754  \n",
       "147  Iris-virginica              5.542343  \n",
       "148  Iris-virginica              6.210108  \n",
       "149  Iris-virginica              5.097166  \n",
       "\n",
       "[150 rows x 7 columns]"
      ]
     },
     "execution_count": 35,
     "metadata": {},
     "output_type": "execute_result"
    }
   ],
   "source": [
    "df_iris3[\"PetalLengthCm_modelo\"]=modelo.predict(df_iris3)\n",
    "df_iris3\n"
   ]
  },
  {
   "cell_type": "code",
   "execution_count": 36,
   "metadata": {},
   "outputs": [
    {
     "data": {
      "image/png": "[encoded data removed]",
      "text/plain": [
       "<Figure size 640x480 with 1 Axes>"
      ]
     },
     "metadata": {},
     "output_type": "display_data"
    }
   ],
   "source": [
    "plt.scatter(df_iris3[\"PetalLengthCm_modelo\"],df_iris3[\"PetalLengthCm\"]);"
   ]
  },
  {
   "cell_type": "code",
   "execution_count": 37,
   "metadata": {},
   "outputs": [],
   "source": [
    "modelo_sk=LinearRegression()\n"
   ]
  },
  {
   "cell_type": "code",
   "execution_count": 38,
   "metadata": {},
   "outputs": [],
   "source": [
    "#modelo_entrenado=modelo_sk.fit(df[Variable_Independiente],df[Variable_Dependiente])\n",
    "\n",
    "modelo_entrenado = modelo_sk.fit(df_iris3[[\"PetalWidthCm\"]], df_iris3[\"PetalLengthCm\"])\n",
    "\n"
   ]
  },
  {
   "cell_type": "code",
   "execution_count": 39,
   "metadata": {},
   "outputs": [],
   "source": [
    "df_iris3[\"PetalLengthCm_SK\"] = modelo_entrenado.predict(df_iris3[[\"PetalWidthCm\"]])\n"
   ]
  },
  {
   "cell_type": "code",
   "execution_count": 40,
   "metadata": {},
   "outputs": [
    {
     "data": {
      "text/html": [
       "<div>\n",
       "<style scoped>\n",
       "    .dataframe tbody tr th:only-of-type {\n",
       "        vertical-align: middle;\n",
       "    }\n",
       "\n",
       "    .dataframe tbody tr th {\n",
       "        vertical-align: top;\n",
       "    }\n",
       "\n",
       "    .dataframe thead th {\n",
       "        text-align: right;\n",
       "    }\n",
       "</style>\n",
       "<table border=\"1\" class=\"dataframe\">\n",
       "  <thead>\n",
       "    <tr style=\"text-align: right;\">\n",
       "      <th></th>\n",
       "      <th>Id</th>\n",
       "      <th>SepalLengthCm</th>\n",
       "      <th>SepalWidthCm</th>\n",
       "      <th>PetalLengthCm</th>\n",
       "      <th>PetalWidthCm</th>\n",
       "      <th>Species</th>\n",
       "      <th>PetalLengthCm_modelo</th>\n",
       "      <th>PetalLengthCm_SK</th>\n",
       "    </tr>\n",
       "  </thead>\n",
       "  <tbody>\n",
       "    <tr>\n",
       "      <th>0</th>\n",
       "      <td>1</td>\n",
       "      <td>5.1</td>\n",
       "      <td>3.5</td>\n",
       "      <td>1.4</td>\n",
       "      <td>0.2</td>\n",
       "      <td>Iris-setosa</td>\n",
       "      <td>1.535749</td>\n",
       "      <td>1.535749</td>\n",
       "    </tr>\n",
       "    <tr>\n",
       "      <th>1</th>\n",
       "      <td>2</td>\n",
       "      <td>4.9</td>\n",
       "      <td>3.0</td>\n",
       "      <td>1.4</td>\n",
       "      <td>0.2</td>\n",
       "      <td>Iris-setosa</td>\n",
       "      <td>1.535749</td>\n",
       "      <td>1.535749</td>\n",
       "    </tr>\n",
       "    <tr>\n",
       "      <th>2</th>\n",
       "      <td>3</td>\n",
       "      <td>4.7</td>\n",
       "      <td>3.2</td>\n",
       "      <td>1.3</td>\n",
       "      <td>0.2</td>\n",
       "      <td>Iris-setosa</td>\n",
       "      <td>1.535749</td>\n",
       "      <td>1.535749</td>\n",
       "    </tr>\n",
       "    <tr>\n",
       "      <th>3</th>\n",
       "      <td>4</td>\n",
       "      <td>4.6</td>\n",
       "      <td>3.1</td>\n",
       "      <td>1.5</td>\n",
       "      <td>0.2</td>\n",
       "      <td>Iris-setosa</td>\n",
       "      <td>1.535749</td>\n",
       "      <td>1.535749</td>\n",
       "    </tr>\n",
       "    <tr>\n",
       "      <th>4</th>\n",
       "      <td>5</td>\n",
       "      <td>5.0</td>\n",
       "      <td>3.6</td>\n",
       "      <td>1.4</td>\n",
       "      <td>0.2</td>\n",
       "      <td>Iris-setosa</td>\n",
       "      <td>1.535749</td>\n",
       "      <td>1.535749</td>\n",
       "    </tr>\n",
       "    <tr>\n",
       "      <th>...</th>\n",
       "      <td>...</td>\n",
       "      <td>...</td>\n",
       "      <td>...</td>\n",
       "      <td>...</td>\n",
       "      <td>...</td>\n",
       "      <td>...</td>\n",
       "      <td>...</td>\n",
       "      <td>...</td>\n",
       "    </tr>\n",
       "    <tr>\n",
       "      <th>145</th>\n",
       "      <td>146</td>\n",
       "      <td>6.7</td>\n",
       "      <td>3.0</td>\n",
       "      <td>5.2</td>\n",
       "      <td>2.3</td>\n",
       "      <td>Iris-virginica</td>\n",
       "      <td>6.210108</td>\n",
       "      <td>6.210108</td>\n",
       "    </tr>\n",
       "    <tr>\n",
       "      <th>146</th>\n",
       "      <td>147</td>\n",
       "      <td>6.3</td>\n",
       "      <td>2.5</td>\n",
       "      <td>5.0</td>\n",
       "      <td>1.9</td>\n",
       "      <td>Iris-virginica</td>\n",
       "      <td>5.319754</td>\n",
       "      <td>5.319754</td>\n",
       "    </tr>\n",
       "    <tr>\n",
       "      <th>147</th>\n",
       "      <td>148</td>\n",
       "      <td>6.5</td>\n",
       "      <td>3.0</td>\n",
       "      <td>5.2</td>\n",
       "      <td>2.0</td>\n",
       "      <td>Iris-virginica</td>\n",
       "      <td>5.542343</td>\n",
       "      <td>5.542343</td>\n",
       "    </tr>\n",
       "    <tr>\n",
       "      <th>148</th>\n",
       "      <td>149</td>\n",
       "      <td>6.2</td>\n",
       "      <td>3.4</td>\n",
       "      <td>5.4</td>\n",
       "      <td>2.3</td>\n",
       "      <td>Iris-virginica</td>\n",
       "      <td>6.210108</td>\n",
       "      <td>6.210108</td>\n",
       "    </tr>\n",
       "    <tr>\n",
       "      <th>149</th>\n",
       "      <td>150</td>\n",
       "      <td>5.9</td>\n",
       "      <td>3.0</td>\n",
       "      <td>5.1</td>\n",
       "      <td>1.8</td>\n",
       "      <td>Iris-virginica</td>\n",
       "      <td>5.097166</td>\n",
       "      <td>5.097166</td>\n",
       "    </tr>\n",
       "  </tbody>\n",
       "</table>\n",
       "<p>150 rows × 8 columns</p>\n",
       "</div>"
      ],
      "text/plain": [
       "      Id  SepalLengthCm  SepalWidthCm  PetalLengthCm  PetalWidthCm  \\\n",
       "0      1            5.1           3.5            1.4           0.2   \n",
       "1      2            4.9           3.0            1.4           0.2   \n",
       "2      3            4.7           3.2            1.3           0.2   \n",
       "3      4            4.6           3.1            1.5           0.2   \n",
       "4      5            5.0           3.6            1.4           0.2   \n",
       "..   ...            ...           ...            ...           ...   \n",
       "145  146            6.7           3.0            5.2           2.3   \n",
       "146  147            6.3           2.5            5.0           1.9   \n",
       "147  148            6.5           3.0            5.2           2.0   \n",
       "148  149            6.2           3.4            5.4           2.3   \n",
       "149  150            5.9           3.0            5.1           1.8   \n",
       "\n",
       "            Species  PetalLengthCm_modelo  PetalLengthCm_SK  \n",
       "0       Iris-setosa              1.535749          1.535749  \n",
       "1       Iris-setosa              1.535749          1.535749  \n",
       "2       Iris-setosa              1.535749          1.535749  \n",
       "3       Iris-setosa              1.535749          1.535749  \n",
       "4       Iris-setosa              1.535749          1.535749  \n",
       "..              ...                   ...               ...  \n",
       "145  Iris-virginica              6.210108          6.210108  \n",
       "146  Iris-virginica              5.319754          5.319754  \n",
       "147  Iris-virginica              5.542343          5.542343  \n",
       "148  Iris-virginica              6.210108          6.210108  \n",
       "149  Iris-virginica              5.097166          5.097166  \n",
       "\n",
       "[150 rows x 8 columns]"
      ]
     },
     "execution_count": 40,
     "metadata": {},
     "output_type": "execute_result"
    }
   ],
   "source": [
    "df_iris3"
   ]
  },
  {
   "cell_type": "markdown",
   "metadata": {},
   "source": [
    "28. Cree una columna que se llame \\y pred\" que contenga la predicci\u0013on de\n",
    "utilizar la recta de regresi\u0013on.\n",
    "29. Cree una columna que se llame \\Error Absoluto\" que contenga la diferencia\n",
    "en valor absoluto de la variable dependiente y la columna \\y pred\".\n",
    "30. Cree una columna que se llame \\Error Cuadratico\" que contenga la diferencia\n",
    "al cuadrado de la variable dependiente y la columna \\y pred\"."
   ]
  },
  {
   "cell_type": "code",
   "execution_count": 41,
   "metadata": {},
   "outputs": [],
   "source": [
    "df_iris3[\"Error_Absoluto\"] = abs(df_iris3[\"PetalLengthCm\"] - df_iris3[\"PetalLengthCm_modelo\"])\n",
    "df_iris3[\"Error_Cuadratico\"] = (df_iris3[\"PetalLengthCm\"] - df_iris3[\"PetalLengthCm_modelo\"])**2\n"
   ]
  },
  {
   "cell_type": "code",
   "execution_count": 42,
   "metadata": {},
   "outputs": [
    {
     "data": {
      "text/html": [
       "<div>\n",
       "<style scoped>\n",
       "    .dataframe tbody tr th:only-of-type {\n",
       "        vertical-align: middle;\n",
       "    }\n",
       "\n",
       "    .dataframe tbody tr th {\n",
       "        vertical-align: top;\n",
       "    }\n",
       "\n",
       "    .dataframe thead th {\n",
       "        text-align: right;\n",
       "    }\n",
       "</style>\n",
       "<table border=\"1\" class=\"dataframe\">\n",
       "  <thead>\n",
       "    <tr style=\"text-align: right;\">\n",
       "      <th></th>\n",
       "      <th>Id</th>\n",
       "      <th>SepalLengthCm</th>\n",
       "      <th>SepalWidthCm</th>\n",
       "      <th>PetalLengthCm</th>\n",
       "      <th>PetalWidthCm</th>\n",
       "      <th>Species</th>\n",
       "      <th>PetalLengthCm_modelo</th>\n",
       "      <th>PetalLengthCm_SK</th>\n",
       "      <th>Error_Absoluto</th>\n",
       "      <th>Error_Cuadratico</th>\n",
       "    </tr>\n",
       "  </thead>\n",
       "  <tbody>\n",
       "    <tr>\n",
       "      <th>0</th>\n",
       "      <td>1</td>\n",
       "      <td>5.1</td>\n",
       "      <td>3.5</td>\n",
       "      <td>1.4</td>\n",
       "      <td>0.2</td>\n",
       "      <td>Iris-setosa</td>\n",
       "      <td>1.535749</td>\n",
       "      <td>1.535749</td>\n",
       "      <td>0.135749</td>\n",
       "      <td>0.018428</td>\n",
       "    </tr>\n",
       "    <tr>\n",
       "      <th>1</th>\n",
       "      <td>2</td>\n",
       "      <td>4.9</td>\n",
       "      <td>3.0</td>\n",
       "      <td>1.4</td>\n",
       "      <td>0.2</td>\n",
       "      <td>Iris-setosa</td>\n",
       "      <td>1.535749</td>\n",
       "      <td>1.535749</td>\n",
       "      <td>0.135749</td>\n",
       "      <td>0.018428</td>\n",
       "    </tr>\n",
       "    <tr>\n",
       "      <th>2</th>\n",
       "      <td>3</td>\n",
       "      <td>4.7</td>\n",
       "      <td>3.2</td>\n",
       "      <td>1.3</td>\n",
       "      <td>0.2</td>\n",
       "      <td>Iris-setosa</td>\n",
       "      <td>1.535749</td>\n",
       "      <td>1.535749</td>\n",
       "      <td>0.235749</td>\n",
       "      <td>0.055578</td>\n",
       "    </tr>\n",
       "    <tr>\n",
       "      <th>3</th>\n",
       "      <td>4</td>\n",
       "      <td>4.6</td>\n",
       "      <td>3.1</td>\n",
       "      <td>1.5</td>\n",
       "      <td>0.2</td>\n",
       "      <td>Iris-setosa</td>\n",
       "      <td>1.535749</td>\n",
       "      <td>1.535749</td>\n",
       "      <td>0.035749</td>\n",
       "      <td>0.001278</td>\n",
       "    </tr>\n",
       "    <tr>\n",
       "      <th>4</th>\n",
       "      <td>5</td>\n",
       "      <td>5.0</td>\n",
       "      <td>3.6</td>\n",
       "      <td>1.4</td>\n",
       "      <td>0.2</td>\n",
       "      <td>Iris-setosa</td>\n",
       "      <td>1.535749</td>\n",
       "      <td>1.535749</td>\n",
       "      <td>0.135749</td>\n",
       "      <td>0.018428</td>\n",
       "    </tr>\n",
       "    <tr>\n",
       "      <th>...</th>\n",
       "      <td>...</td>\n",
       "      <td>...</td>\n",
       "      <td>...</td>\n",
       "      <td>...</td>\n",
       "      <td>...</td>\n",
       "      <td>...</td>\n",
       "      <td>...</td>\n",
       "      <td>...</td>\n",
       "      <td>...</td>\n",
       "      <td>...</td>\n",
       "    </tr>\n",
       "    <tr>\n",
       "      <th>145</th>\n",
       "      <td>146</td>\n",
       "      <td>6.7</td>\n",
       "      <td>3.0</td>\n",
       "      <td>5.2</td>\n",
       "      <td>2.3</td>\n",
       "      <td>Iris-virginica</td>\n",
       "      <td>6.210108</td>\n",
       "      <td>6.210108</td>\n",
       "      <td>1.010108</td>\n",
       "      <td>1.020319</td>\n",
       "    </tr>\n",
       "    <tr>\n",
       "      <th>146</th>\n",
       "      <td>147</td>\n",
       "      <td>6.3</td>\n",
       "      <td>2.5</td>\n",
       "      <td>5.0</td>\n",
       "      <td>1.9</td>\n",
       "      <td>Iris-virginica</td>\n",
       "      <td>5.319754</td>\n",
       "      <td>5.319754</td>\n",
       "      <td>0.319754</td>\n",
       "      <td>0.102243</td>\n",
       "    </tr>\n",
       "    <tr>\n",
       "      <th>147</th>\n",
       "      <td>148</td>\n",
       "      <td>6.5</td>\n",
       "      <td>3.0</td>\n",
       "      <td>5.2</td>\n",
       "      <td>2.0</td>\n",
       "      <td>Iris-virginica</td>\n",
       "      <td>5.542343</td>\n",
       "      <td>5.542343</td>\n",
       "      <td>0.342343</td>\n",
       "      <td>0.117199</td>\n",
       "    </tr>\n",
       "    <tr>\n",
       "      <th>148</th>\n",
       "      <td>149</td>\n",
       "      <td>6.2</td>\n",
       "      <td>3.4</td>\n",
       "      <td>5.4</td>\n",
       "      <td>2.3</td>\n",
       "      <td>Iris-virginica</td>\n",
       "      <td>6.210108</td>\n",
       "      <td>6.210108</td>\n",
       "      <td>0.810108</td>\n",
       "      <td>0.656276</td>\n",
       "    </tr>\n",
       "    <tr>\n",
       "      <th>149</th>\n",
       "      <td>150</td>\n",
       "      <td>5.9</td>\n",
       "      <td>3.0</td>\n",
       "      <td>5.1</td>\n",
       "      <td>1.8</td>\n",
       "      <td>Iris-virginica</td>\n",
       "      <td>5.097166</td>\n",
       "      <td>5.097166</td>\n",
       "      <td>0.002834</td>\n",
       "      <td>0.000008</td>\n",
       "    </tr>\n",
       "  </tbody>\n",
       "</table>\n",
       "<p>150 rows × 10 columns</p>\n",
       "</div>"
      ],
      "text/plain": [
       "      Id  SepalLengthCm  SepalWidthCm  PetalLengthCm  PetalWidthCm  \\\n",
       "0      1            5.1           3.5            1.4           0.2   \n",
       "1      2            4.9           3.0            1.4           0.2   \n",
       "2      3            4.7           3.2            1.3           0.2   \n",
       "3      4            4.6           3.1            1.5           0.2   \n",
       "4      5            5.0           3.6            1.4           0.2   \n",
       "..   ...            ...           ...            ...           ...   \n",
       "145  146            6.7           3.0            5.2           2.3   \n",
       "146  147            6.3           2.5            5.0           1.9   \n",
       "147  148            6.5           3.0            5.2           2.0   \n",
       "148  149            6.2           3.4            5.4           2.3   \n",
       "149  150            5.9           3.0            5.1           1.8   \n",
       "\n",
       "            Species  PetalLengthCm_modelo  PetalLengthCm_SK  Error_Absoluto  \\\n",
       "0       Iris-setosa              1.535749          1.535749        0.135749   \n",
       "1       Iris-setosa              1.535749          1.535749        0.135749   \n",
       "2       Iris-setosa              1.535749          1.535749        0.235749   \n",
       "3       Iris-setosa              1.535749          1.535749        0.035749   \n",
       "4       Iris-setosa              1.535749          1.535749        0.135749   \n",
       "..              ...                   ...               ...             ...   \n",
       "145  Iris-virginica              6.210108          6.210108        1.010108   \n",
       "146  Iris-virginica              5.319754          5.319754        0.319754   \n",
       "147  Iris-virginica              5.542343          5.542343        0.342343   \n",
       "148  Iris-virginica              6.210108          6.210108        0.810108   \n",
       "149  Iris-virginica              5.097166          5.097166        0.002834   \n",
       "\n",
       "     Error_Cuadratico  \n",
       "0            0.018428  \n",
       "1            0.018428  \n",
       "2            0.055578  \n",
       "3            0.001278  \n",
       "4            0.018428  \n",
       "..                ...  \n",
       "145          1.020319  \n",
       "146          0.102243  \n",
       "147          0.117199  \n",
       "148          0.656276  \n",
       "149          0.000008  \n",
       "\n",
       "[150 rows x 10 columns]"
      ]
     },
     "execution_count": 42,
     "metadata": {},
     "output_type": "execute_result"
    }
   ],
   "source": [
    "df_iris3"
   ]
  },
  {
   "cell_type": "markdown",
   "metadata": {},
   "source": [
    "31. Del conjunto de datos creado en 23, calcule la recta de regresi\u0013on entre las\n",
    "dos variables que se utilizaron en el apartado 27.\n",
    "2\n",
    "32. Cree una columna que se llame \\y pred\" que contenga la predicci\u0013on de\n",
    "utilizar la recta de regresi\u0013on.\n",
    "33. Cree una columna que se llame \\Error Absoluto\" que contenga la diferencia\n",
    "en valor absoluto de la variable dependiente y la columna \\y pred\".\n",
    "34. >La suma de los Errores Absolutos del apartado 27 es igual a la suma de\n",
    "los Errores Absolutos en este apartado?\n",
    "35. Cree una columna que se llame \\Error Cuadratico\" que contenga la diferencia\n",
    "al cuadrado de la variable dependiente y la columna \\y pred\".\n",
    "36. >La suma de los Errores Cuadr\u0013aticos del apartado 27 es igual a la suma\n",
    "de los Errores Cuadr\u0013aticos en este apartado?"
   ]
  },
  {
   "cell_type": "code",
   "execution_count": 43,
   "metadata": {},
   "outputs": [],
   "source": [
    "iris_copia4 = iris_copia2.copy()"
   ]
  },
  {
   "cell_type": "code",
   "execution_count": 44,
   "metadata": {},
   "outputs": [],
   "source": [
    "modelo1=smf.ols(\"SepalLengthCm~SepalWidthCm\",data=iris_copia4).fit()\n",
    "\n",
    "modelo2=smf.ols(\"SepalLengthCm~SepalWidthCm\",data=df_iris3).fit()\n",
    "\n",
    "\n",
    "iris_copia4[\"SepalLengthCm_modelo1\"]=modelo1.predict(iris_copia4)\n",
    "iris_copia4[\"SepalLengthCm_modelo2\"]=modelo2.predict(df_iris3)\n",
    "\n",
    "\n"
   ]
  },
  {
   "cell_type": "code",
   "execution_count": 45,
   "metadata": {},
   "outputs": [],
   "source": [
    "iris_copia4[\"Error_Absoluto1\"] = abs(iris_copia4[\"SepalLengthCm\"] - iris_copia4[\"SepalLengthCm_modelo1\"])\n",
    "iris_copia4[\"Error_Absoluto2\"] = abs(iris_copia4[\"SepalLengthCm\"] - iris_copia4[\"SepalLengthCm_modelo2\"])\n",
    "\n"
   ]
  },
  {
   "cell_type": "code",
   "execution_count": 46,
   "metadata": {},
   "outputs": [],
   "source": [
    "iris_copia4[\"Diferencia_error_abosluto\"] = iris_copia4[\"Error_Absoluto1\"] - iris_copia4[\"Error_Absoluto2\"]\n"
   ]
  },
  {
   "cell_type": "code",
   "execution_count": 47,
   "metadata": {},
   "outputs": [
    {
     "data": {
      "text/plain": [
       "0.00043401886465409473"
      ]
     },
     "execution_count": 47,
     "metadata": {},
     "output_type": "execute_result"
    }
   ],
   "source": [
    "iris_copia4[\"Diferencia_error_abosluto\"].mean()"
   ]
  },
  {
   "cell_type": "markdown",
   "metadata": {},
   "source": [
    "37. Del apartado 1 haga otra copia, ordene de mayor a menor la segunda\n",
    "columna num\u0013erica y a partir de ah\u0013\u0010 elimine los registros que ocupen la\n",
    "posici\u0013on donde est\u0013e:\n",
    "La mediana.\n",
    "El percentil 10.\n",
    "El percentil 50.\n",
    "El percentil 80."
   ]
  },
  {
   "cell_type": "code",
   "execution_count": 48,
   "metadata": {},
   "outputs": [],
   "source": [
    "iris_copia5 = iris.copy()\n"
   ]
  },
  {
   "cell_type": "code",
   "execution_count": 49,
   "metadata": {},
   "outputs": [],
   "source": [
    "#ordeno los valores por la columnas \"SepalWidthCm\"\n",
    "\n",
    "iris_copia5 = iris_copia5.sort_values(by='SepalWidthCm', ascending=False)\n",
    "\n",
    "# saco los cuantiles\n",
    "p10 = iris_copia5['SepalWidthCm'].quantile(0.10)\n",
    "p50 = iris_copia5['SepalWidthCm'].quantile(0.50) \n",
    "p80 = iris_copia5['SepalWidthCm'].quantile(0.80)\n",
    "\n",
    "#elimino las filas donde el valor sea igual a cada uno de los cuantiles\n",
    "\n",
    "iris_copia5 = iris_copia5.drop(iris_copia5[iris_copia5['SepalWidthCm'] == p10].index)\n",
    "iris_copia5 = iris_copia5.drop(iris_copia5[iris_copia5['SepalWidthCm'] == p50].index)\n",
    "iris_copia5 = iris_copia5.drop(iris_copia5[iris_copia5['SepalWidthCm'] == p80].index)"
   ]
  },
  {
   "cell_type": "code",
   "execution_count": 50,
   "metadata": {},
   "outputs": [
    {
     "data": {
      "text/plain": [
       "(117, 6)"
      ]
     },
     "execution_count": 50,
     "metadata": {},
     "output_type": "execute_result"
    }
   ],
   "source": [
    "iris_copia5.shape"
   ]
  },
  {
   "cell_type": "markdown",
   "metadata": {},
   "source": [
    "38. Estudie si cada una de las variables num ́ericas siguen una Distribuci ́on\n",
    "Normal."
   ]
  },
  {
   "cell_type": "code",
   "execution_count": 51,
   "metadata": {},
   "outputs": [],
   "source": [
    "listado_columnas5 = list(iris_copia5.columns)\n"
   ]
  },
  {
   "cell_type": "code",
   "execution_count": 52,
   "metadata": {},
   "outputs": [],
   "source": [
    "listado_columnas5.remove(\"Id\")\n"
   ]
  },
  {
   "cell_type": "code",
   "execution_count": 53,
   "metadata": {},
   "outputs": [],
   "source": [
    "listado_columnas5.remove(\"Species\")\n"
   ]
  },
  {
   "cell_type": "code",
   "execution_count": 72,
   "metadata": {},
   "outputs": [
    {
     "data": {
      "text/plain": [
       "['SepalLengthCm', 'SepalWidthCm', 'PetalLengthCm', 'PetalWidthCm']"
      ]
     },
     "execution_count": 72,
     "metadata": {},
     "output_type": "execute_result"
    }
   ],
   "source": [
    "listado_columnas5"
   ]
  },
  {
   "cell_type": "code",
   "execution_count": 54,
   "metadata": {},
   "outputs": [
    {
     "name": "stdout",
     "output_type": "stream",
     "text": [
      "La distribución de SepalLengthCm no sigue una distribución normal\n",
      "La distribución de SepalWidthCm no sigue una distribución normal\n",
      "La distribución de PetalLengthCm no sigue una distribución normal\n",
      "La distribución de PetalWidthCm no sigue una distribución normal\n"
     ]
    }
   ],
   "source": [
    "from scipy.stats import shapiro\n",
    "\n",
    "# recorro las columnas con un for y a cada una le realizo la prueba de shapiro\n",
    "# si el p valor es mayor a 0,05 la variable sigue una dist normal, de lo contrario no sigue una distribucion normal\n",
    "\n",
    "for i in listado_columnas5:\n",
    "    estadistico, p_value = shapiro(iris_copia5[i])\n",
    "\n",
    "    if p_value > 0.05:\n",
    "        print(f\"La distribución de {i} sigue una distribución normal\")\n",
    "    else:\n",
    "        print(f\"La distribución de {i} no sigue una distribución normal\")"
   ]
  },
  {
   "cell_type": "markdown",
   "metadata": {},
   "source": [
    "39. Estudie si todas las variables num ́ericas tienen la misma media, en caso\n",
    "contrario, estudie si alguna variable num ́erica tiene la misma media que\n",
    "otra."
   ]
  },
  {
   "cell_type": "code",
   "execution_count": 55,
   "metadata": {},
   "outputs": [
    {
     "name": "stdout",
     "output_type": "stream",
     "text": [
      " no tenemos medias iguales\n"
     ]
    },
    {
     "name": "stderr",
     "output_type": "stream",
     "text": [
      "C:\\Users\\Hp\\AppData\\Local\\Temp\\ipykernel_14936\\853755992.py:3: FutureWarning: The default value of numeric_only in DataFrame.mean is deprecated. In a future version, it will default to False. In addition, specifying 'numeric_only=None' is deprecated. Select only valid columns or specify the value of numeric_only to silence this warning.\n",
      "  medias = list(iris_copia5.mean())\n"
     ]
    }
   ],
   "source": [
    "# hago un listadeo de las medias de las variables\n",
    "\n",
    "medias = list(iris_copia5.mean())\n",
    "\n",
    "# con un set comparo los grupos de la lista de medias. Si el set de medias es menor, es porque akgun valor es repetido, por lo que alguna media es igual a otra. De lo contrario, todas las medias son diferentes.\n",
    "if len(medias) == len(set(medias)):\n",
    "    print(\" no tenemos medias iguales\")\n",
    "else:\n",
    "    print(\"hay variables con las mismas medias\")"
   ]
  },
  {
   "cell_type": "markdown",
   "metadata": {},
   "source": [
    "40. Del apartado 1 haga otra copia, calcule cuantos valores distintos tiene la\n",
    "variable categ ́orica."
   ]
  },
  {
   "cell_type": "code",
   "execution_count": 56,
   "metadata": {},
   "outputs": [],
   "source": [
    "iris_copia6 = iris.copy()"
   ]
  },
  {
   "cell_type": "code",
   "execution_count": 57,
   "metadata": {},
   "outputs": [
    {
     "data": {
      "text/plain": [
       "Iris-setosa        50\n",
       "Iris-versicolor    50\n",
       "Iris-virginica     50\n",
       "Name: Species, dtype: int64"
      ]
     },
     "execution_count": 57,
     "metadata": {},
     "output_type": "execute_result"
    }
   ],
   "source": [
    "iris_copia6[\"Species\"].value_counts()"
   ]
  },
  {
   "cell_type": "markdown",
   "metadata": {},
   "source": [
    "41. Haga tantos conjunto de datos como necesite por cada uno de los valores\n",
    "distintos del apartado anterior:"
   ]
  },
  {
   "cell_type": "code",
   "execution_count": 58,
   "metadata": {},
   "outputs": [],
   "source": [
    "lista_species = list(iris_copia6[\"Species\"].unique())\n"
   ]
  },
  {
   "cell_type": "code",
   "execution_count": 59,
   "metadata": {},
   "outputs": [
    {
     "data": {
      "text/plain": [
       "['Iris-setosa', 'Iris-versicolor', 'Iris-virginica']"
      ]
     },
     "execution_count": 59,
     "metadata": {},
     "output_type": "execute_result"
    }
   ],
   "source": [
    "lista_species"
   ]
  },
  {
   "cell_type": "code",
   "execution_count": 60,
   "metadata": {},
   "outputs": [],
   "source": [
    "grupo_setosa = iris_copia6[iris_copia6['Species'] == 'Iris-setosa']\n",
    "grupo_versicolor = iris_copia6[iris_copia6['Species'] == 'Iris-versicolor']\n",
    "grupo_virginica = iris_copia6[iris_copia6['Species'] == 'Iris-virginica']"
   ]
  },
  {
   "cell_type": "markdown",
   "metadata": {},
   "source": [
    "41. Haga tantos conjunto de datos como necesite por cada uno de los valores\n",
    "distintos del apartado anterior:\n",
    "Calcule la suma total de cada una de las variables num ́ericas.\n",
    "Calcule la media de cada una de las variables num ́ericas.\n",
    "Calcule la varianza de cada una de las variables num ́ericas.\n",
    "Calcula el coeficiente de variaci ́on de cada una de las variables num ́ericas.\n",
    "Calcule el coeficiente de asimetr ́ıa de cada una de las variables num ́ericas.\n",
    "Calcule el coeficiente de curtosis y de que tipo es de cada una de las\n",
    "variables num ́ericas.\n",
    "Calcule el m ́aximo y el m ́ınimo de cada una de las variables num ́ericas.\n",
    "Calcule los percentiles 20 y 60 de cada una de las variables num ́ericas.\n",
    "Calcule el rango intercuart ́ılico de cada una de las variables num ́ericas.\n",
    "Calcule la variable Limite Inferior que es el cuartil 1 menos 1,5 veces\n",
    "el rango intercuartilico de cada una de las variables num ́ericas.\n",
    "Calcule cuantos elementos se quedan por debajo de de cada Limite\n",
    "Inferior de cada una de las variables num ́ericas.\n",
    "Calcule la variable Limite Superior que es el cuartil 3 mas 1,5 veces\n",
    "el rango intercuartilico de cada una de las variables num ́ericas.\n",
    "Calcule cuantos elementos se quedan por encima de de cada Limite\n",
    "Superior de cada una de las variables num ́ericas."
   ]
  },
  {
   "cell_type": "code",
   "execution_count": 61,
   "metadata": {},
   "outputs": [],
   "source": [
    "def calculo_metricas (df, df_nombre):\n",
    "\n",
    "\n",
    "    \"\"\"\n",
    "    Esta función calcula e imprime diversas métricas estadísticas\n",
    "    para las columnas numéricas especificadas de un DataFrame.\n",
    "    \n",
    "    Parámetros:\n",
    "    df : El DataFrame que contiene los datos.\n",
    "    df_nombre (str): El nombre del DataFrame para imprimir\n",
    "    \"\"\"\n",
    "\n",
    "    print(f\"Estadisticos de {df_nombre}\")\n",
    "\n",
    "\n",
    "    iris_sum = df[[\"SepalLengthCm\", \"SepalWidthCm\", \"PetalLengthCm\", \"PetalWidthCm\"]].sum()\n",
    "    print(\"La suma total de cada una de las variables numericas es:\",iris_sum)\n",
    "\n",
    "\n",
    "    iris_mean = df[[\"SepalLengthCm\", \"SepalWidthCm\", \"PetalLengthCm\", \"PetalWidthCm\"]].mean()\n",
    "    print(\"La media de cada una de las variables numericas es\" , iris_mean)\n",
    "\n",
    "    iris_var = df[[\"SepalLengthCm\", \"SepalWidthCm\", \"PetalLengthCm\", \"PetalWidthCm\"]].var()\n",
    "    print(\"La varianza de cada unas de las varibles numericas es: \",iris_var)\n",
    "\n",
    "\n",
    "    iris_std = df[[\"SepalLengthCm\", \"SepalWidthCm\", \"PetalLengthCm\", \"PetalWidthCm\"]].std()\n",
    "    print(\"El coeficiente de variacion de cada unas de las variables numericas es: \",iris_std)\n",
    "\n",
    "    iris_asim = df[[\"SepalLengthCm\", \"SepalWidthCm\", \"PetalLengthCm\", \"PetalWidthCm\"]].skew()\n",
    "    print(\"El coeficiente de asimetria de cada una de las variables numericas es: \",iris_asim)\n",
    "\n",
    "    iris_kurtosis = df[[\"SepalLengthCm\", \"SepalWidthCm\", \"PetalLengthCm\", \"PetalWidthCm\"]].kurtosis()\n",
    "\n",
    "\n",
    "    df_kurt = pd.DataFrame(iris_kurtosis, columns=[\"Kurtosis\"])\n",
    "    df_kurt\n",
    "\n",
    "\n",
    "    df_kurt[\"tipo_kurtosis\"] = df_kurt[\"Kurtosis\"].apply(lambda x: \"leptocurtica\" if x>0 else\n",
    "                                                                \"platicurtica\" if x<0 else\n",
    "                                                                \"mesocurtica\")  \n",
    "    print(\"kurtoris de cada unas de las variables numericas\")\n",
    "    print(df_kurt)\n",
    "\n",
    "    iris_max = df[[\"SepalLengthCm\", \"SepalWidthCm\", \"PetalLengthCm\", \"PetalWidthCm\"]].max()\n",
    "    print(\"El valor maximo de cada una de las variables numericas es: \" ,iris_max)\n",
    "\n",
    "    iris_min = df[[\"SepalLengthCm\", \"SepalWidthCm\", \"PetalLengthCm\", \"PetalWidthCm\"]].min()\n",
    "    print(\"El valor minimo de cada una de las variables numericas es: \",iris_min)\n",
    "\n",
    "\n",
    "    iris_q20 = df[[\"SepalLengthCm\", \"SepalWidthCm\", \"PetalLengthCm\", \"PetalWidthCm\"]].quantile(0.2)\n",
    "    print(\"El valor percentil 20 de cada una de las variables numericas es: \",iris_q20)\n",
    "\n",
    "    iris_q60 = df[[\"SepalLengthCm\", \"SepalWidthCm\", \"PetalLengthCm\", \"PetalWidthCm\"]].quantile(0.6)\n",
    "    print(\"El valor percentil 60 de cada una de las variables numericas es: \",iris_q60)\n",
    "\n",
    "\n",
    "    info_iris = df[[\"SepalLengthCm\", \"SepalWidthCm\", \"PetalLengthCm\", \"PetalWidthCm\"]].describe().T\n",
    "    info_iris\n",
    "\n",
    "    info_iris[\"RIQ\"] = info_iris[\"75%\"] - info_iris[\"25%\"]\n",
    "    print(\"El valor del RIQ de cada una de las variables numericas es: \",info_iris[\"RIQ\"])\n",
    "\n",
    "    info_iris[\"Limite_Inferior\"] = info_iris[\"25%\"] - 1.5 * info_iris[\"RIQ\"]\n",
    "    print(info_iris[\"Limite_Inferior\"])\n",
    "\n",
    "    info_iris[\"Limite_superior\"] = info_iris[\"75%\"] + 1.5 * info_iris[\"RIQ\"]\n",
    "    print(info_iris[\"Limite_superior\"]) \n",
    "\n",
    "    listado_columnas\n",
    "    dic_lim_inf = dict(info_iris[\"Limite_Inferior\"])\n",
    "    dic_lim_sup = dict(info_iris[\"Limite_superior\"])\n",
    "\n",
    "\n",
    "    for i in listado_columnas:\n",
    "        valor_menor = sum(df[i].values < dic_lim_inf[i])\n",
    "        print(f\"En la columna {i} tenemos {valor_menor} valores menores al limite inferior\")\n",
    "        valor_sup = sum(df[i].values > dic_lim_sup[i])\n",
    "        print(f\"En la columna {i} tenemos {valor_sup} valores mayores al limite superior\")\n",
    "\n",
    "\n"
   ]
  },
  {
   "cell_type": "code",
   "execution_count": 62,
   "metadata": {},
   "outputs": [
    {
     "name": "stdout",
     "output_type": "stream",
     "text": [
      "Estadisticos de grupo setosa\n",
      "La suma total de cada una de las variables numericas es: SepalLengthCm    231.625\n",
      "SepalWidthCm     160.125\n",
      "PetalLengthCm     73.200\n",
      "PetalWidthCm      12.200\n",
      "dtype: float64\n",
      "La media de cada una de las variables numericas es SepalLengthCm    4.6325\n",
      "SepalWidthCm     3.2025\n",
      "PetalLengthCm    1.4640\n",
      "PetalWidthCm     0.2440\n",
      "dtype: float64\n",
      "La varianza de cada unas de las varibles numericas es:  SepalLengthCm    1.513170\n",
      "SepalWidthCm     0.626894\n",
      "PetalLengthCm    0.030106\n",
      "PetalWidthCm     0.011494\n",
      "dtype: float64\n",
      "El coeficiente de variacion de cada unas de las variables numericas es:  SepalLengthCm    1.230110\n",
      "SepalWidthCm     0.791766\n",
      "PetalLengthCm    0.173511\n",
      "PetalWidthCm     0.107210\n",
      "dtype: float64\n",
      "El coeficiente de asimetria de cada una de las variables numericas es:  SepalLengthCm   -2.355598\n",
      "SepalWidthCm    -1.693226\n",
      "PetalLengthCm    0.071846\n",
      "PetalWidthCm     1.197243\n",
      "dtype: float64\n",
      "kurtoris de cada unas de las variables numericas\n",
      "               Kurtosis tipo_kurtosis\n",
      "SepalLengthCm  4.515287  leptocurtica\n",
      "SepalWidthCm   2.627874  leptocurtica\n",
      "PetalLengthCm  1.031626  leptocurtica\n",
      "PetalWidthCm   1.566442  leptocurtica\n",
      "El valor maximo de cada una de las variables numericas es:  SepalLengthCm    5.8\n",
      "SepalWidthCm     4.4\n",
      "PetalLengthCm    1.9\n",
      "PetalWidthCm     0.6\n",
      "dtype: float64\n",
      "El valor minimo de cada una de las variables numericas es:  SepalLengthCm    1.125\n",
      "SepalWidthCm     1.125\n",
      "PetalLengthCm    1.000\n",
      "PetalWidthCm     0.100\n",
      "dtype: float64\n",
      "El valor percentil 20 de cada una de las variables numericas es:  SepalLengthCm    4.58\n",
      "SepalWidthCm     3.00\n",
      "PetalLengthCm    1.30\n",
      "PetalWidthCm     0.20\n",
      "Name: 0.2, dtype: float64\n",
      "El valor percentil 60 de cada una de las variables numericas es:  SepalLengthCm    5.1\n",
      "SepalWidthCm     3.4\n",
      "PetalLengthCm    1.5\n",
      "PetalWidthCm     0.2\n",
      "Name: 0.6, dtype: float64\n",
      "El valor del RIQ de cada una de las variables numericas es:  SepalLengthCm    0.575\n",
      "SepalWidthCm     0.575\n",
      "PetalLengthCm    0.175\n",
      "PetalWidthCm     0.100\n",
      "Name: RIQ, dtype: float64\n",
      "SepalLengthCm    3.7625\n",
      "SepalWidthCm     2.2375\n",
      "PetalLengthCm    1.1375\n",
      "PetalWidthCm     0.0500\n",
      "Name: Limite_Inferior, dtype: float64\n",
      "SepalLengthCm    6.0625\n",
      "SepalWidthCm     4.5375\n",
      "PetalLengthCm    1.8375\n",
      "PetalWidthCm     0.4500\n",
      "Name: Limite_superior, dtype: float64\n",
      "En la columna SepalLengthCm tenemos 5 valores menores al limite inferior\n",
      "En la columna SepalLengthCm tenemos 0 valores mayores al limite superior\n",
      "En la columna SepalWidthCm tenemos 5 valores menores al limite inferior\n",
      "En la columna SepalWidthCm tenemos 0 valores mayores al limite superior\n",
      "En la columna PetalLengthCm tenemos 2 valores menores al limite inferior\n",
      "En la columna PetalLengthCm tenemos 2 valores mayores al limite superior\n",
      "En la columna PetalWidthCm tenemos 0 valores menores al limite inferior\n",
      "En la columna PetalWidthCm tenemos 2 valores mayores al limite superior\n",
      "Estadisticos de grupo versicolor\n",
      "La suma total de cada una de las variables numericas es: SepalLengthCm    296.8\n",
      "SepalWidthCm     138.5\n",
      "PetalLengthCm    213.0\n",
      "PetalWidthCm      66.3\n",
      "dtype: float64\n",
      "La media de cada una de las variables numericas es SepalLengthCm    5.936\n",
      "SepalWidthCm     2.770\n",
      "PetalLengthCm    4.260\n",
      "PetalWidthCm     1.326\n",
      "dtype: float64\n",
      "La varianza de cada unas de las varibles numericas es:  SepalLengthCm    0.266433\n",
      "SepalWidthCm     0.098469\n",
      "PetalLengthCm    0.220816\n",
      "PetalWidthCm     0.039106\n",
      "dtype: float64\n",
      "El coeficiente de variacion de cada unas de las variables numericas es:  SepalLengthCm    0.516171\n",
      "SepalWidthCm     0.313798\n",
      "PetalLengthCm    0.469911\n",
      "PetalWidthCm     0.197753\n",
      "dtype: float64\n",
      "El coeficiente de asimetria de cada una de las variables numericas es:  SepalLengthCm    0.105378\n",
      "SepalWidthCm    -0.362845\n",
      "PetalLengthCm   -0.606508\n",
      "PetalWidthCm    -0.031180\n",
      "dtype: float64\n",
      "kurtoris de cada unas de las variables numericas\n",
      "               Kurtosis tipo_kurtosis\n",
      "SepalLengthCm -0.533010  platicurtica\n",
      "SepalWidthCm  -0.366237  platicurtica\n",
      "PetalLengthCm  0.047903  leptocurtica\n",
      "PetalWidthCm  -0.410059  platicurtica\n",
      "El valor maximo de cada una de las variables numericas es:  SepalLengthCm    7.0\n",
      "SepalWidthCm     3.4\n",
      "PetalLengthCm    5.1\n",
      "PetalWidthCm     1.8\n",
      "dtype: float64\n",
      "El valor minimo de cada una de las variables numericas es:  SepalLengthCm    4.9\n",
      "SepalWidthCm     2.0\n",
      "PetalLengthCm    3.0\n",
      "PetalWidthCm     1.0\n",
      "dtype: float64\n",
      "El valor percentil 20 de cada una de las variables numericas es:  SepalLengthCm    5.50\n",
      "SepalWidthCm     2.50\n",
      "PetalLengthCm    3.90\n",
      "PetalWidthCm     1.18\n",
      "Name: 0.2, dtype: float64\n",
      "El valor percentil 60 de cada una de las variables numericas es:  SepalLengthCm    6.04\n",
      "SepalWidthCm     2.90\n",
      "PetalLengthCm    4.50\n",
      "PetalWidthCm     1.40\n",
      "Name: 0.6, dtype: float64\n",
      "El valor del RIQ de cada una de las variables numericas es:  SepalLengthCm    0.700\n",
      "SepalWidthCm     0.475\n",
      "PetalLengthCm    0.600\n",
      "PetalWidthCm     0.300\n",
      "Name: RIQ, dtype: float64\n",
      "SepalLengthCm    4.5500\n",
      "SepalWidthCm     1.8125\n",
      "PetalLengthCm    3.1000\n",
      "PetalWidthCm     0.7500\n",
      "Name: Limite_Inferior, dtype: float64\n",
      "SepalLengthCm    7.3500\n",
      "SepalWidthCm     3.7125\n",
      "PetalLengthCm    5.5000\n",
      "PetalWidthCm     1.9500\n",
      "Name: Limite_superior, dtype: float64\n",
      "En la columna SepalLengthCm tenemos 0 valores menores al limite inferior\n",
      "En la columna SepalLengthCm tenemos 0 valores mayores al limite superior\n",
      "En la columna SepalWidthCm tenemos 0 valores menores al limite inferior\n",
      "En la columna SepalWidthCm tenemos 0 valores mayores al limite superior\n",
      "En la columna PetalLengthCm tenemos 1 valores menores al limite inferior\n",
      "En la columna PetalLengthCm tenemos 0 valores mayores al limite superior\n",
      "En la columna PetalWidthCm tenemos 0 valores menores al limite inferior\n",
      "En la columna PetalWidthCm tenemos 0 valores mayores al limite superior\n",
      "Estadisticos de grupo virginica\n",
      "La suma total de cada una de las variables numericas es: SepalLengthCm    274.9\n",
      "SepalWidthCm     128.4\n",
      "PetalLengthCm    277.6\n",
      "PetalWidthCm     101.3\n",
      "dtype: float64\n",
      "La media de cada una de las variables numericas es SepalLengthCm    5.498\n",
      "SepalWidthCm     2.568\n",
      "PetalLengthCm    5.552\n",
      "PetalWidthCm     2.026\n",
      "dtype: float64\n",
      "La varianza de cada unas de las varibles numericas es:  SepalLengthCm    5.533669\n",
      "SepalWidthCm     0.717322\n",
      "PetalLengthCm    0.304588\n",
      "PetalWidthCm     0.075433\n",
      "dtype: float64\n",
      "El coeficiente de variacion de cada unas de las variables numericas es:  SepalLengthCm    2.352375\n",
      "SepalWidthCm     0.846949\n",
      "PetalLengthCm    0.551895\n",
      "PetalWidthCm     0.274650\n",
      "dtype: float64\n",
      "El coeficiente de asimetria de cada una de las variables numericas es:  SepalLengthCm   -1.292112\n",
      "SepalWidthCm    -1.056252\n",
      "PetalLengthCm    0.549445\n",
      "PetalWidthCm    -0.129477\n",
      "dtype: float64\n",
      "kurtoris de cada unas de las variables numericas\n",
      "               Kurtosis tipo_kurtosis\n",
      "SepalLengthCm  0.061172  leptocurtica\n",
      "SepalWidthCm  -0.125401  platicurtica\n",
      "PetalLengthCm -0.153779  platicurtica\n",
      "PetalWidthCm  -0.602264  platicurtica\n",
      "El valor maximo de cada una de las variables numericas es:  SepalLengthCm    7.9\n",
      "SepalWidthCm     3.8\n",
      "PetalLengthCm    6.9\n",
      "PetalWidthCm     2.5\n",
      "dtype: float64\n",
      "El valor minimo de cada una de las variables numericas es:  SepalLengthCm    1.0\n",
      "SepalWidthCm     1.0\n",
      "PetalLengthCm    4.5\n",
      "PetalWidthCm     1.4\n",
      "dtype: float64\n",
      "El valor percentil 20 de cada una de las variables numericas es:  SepalLengthCm    4.12\n",
      "SepalWidthCm     1.96\n",
      "PetalLengthCm    5.10\n",
      "PetalWidthCm     1.80\n",
      "Name: 0.2, dtype: float64\n",
      "El valor percentil 60 de cada una de las variables numericas es:  SepalLengthCm    6.44\n",
      "SepalWidthCm     3.00\n",
      "PetalLengthCm    5.60\n",
      "PetalWidthCm     2.10\n",
      "Name: 0.6, dtype: float64\n",
      "El valor del RIQ de cada una de las variables numericas es:  SepalLengthCm    1.175\n",
      "SepalWidthCm     0.500\n",
      "PetalLengthCm    0.775\n",
      "PetalWidthCm     0.500\n",
      "Name: RIQ, dtype: float64\n",
      "SepalLengthCm    3.9625\n",
      "SepalWidthCm     1.7500\n",
      "PetalLengthCm    3.9375\n",
      "PetalWidthCm     1.0500\n",
      "Name: Limite_Inferior, dtype: float64\n",
      "SepalLengthCm    8.6625\n",
      "SepalWidthCm     3.7500\n",
      "PetalLengthCm    7.0375\n",
      "PetalWidthCm     3.0500\n",
      "Name: Limite_superior, dtype: float64\n",
      "En la columna SepalLengthCm tenemos 10 valores menores al limite inferior\n",
      "En la columna SepalLengthCm tenemos 0 valores mayores al limite superior\n",
      "En la columna SepalWidthCm tenemos 10 valores menores al limite inferior\n",
      "En la columna SepalWidthCm tenemos 2 valores mayores al limite superior\n",
      "En la columna PetalLengthCm tenemos 0 valores menores al limite inferior\n",
      "En la columna PetalLengthCm tenemos 0 valores mayores al limite superior\n",
      "En la columna PetalWidthCm tenemos 0 valores menores al limite inferior\n",
      "En la columna PetalWidthCm tenemos 0 valores mayores al limite superior\n"
     ]
    }
   ],
   "source": [
    "calculo_metricas(grupo_setosa, \"grupo setosa\")\n",
    "calculo_metricas(grupo_versicolor, \"grupo versicolor\")\n",
    "calculo_metricas(grupo_virginica, \"grupo virginica\")"
   ]
  },
  {
   "cell_type": "markdown",
   "metadata": {},
   "source": [
    "Calcule el coeficiente de correlaci ́on lineal de cada una de las variables\n",
    "con otra."
   ]
  },
  {
   "cell_type": "code",
   "execution_count": 63,
   "metadata": {},
   "outputs": [],
   "source": [
    "def correlaciones(df):\n",
    "    \"\"\"\n",
    "    Esta función calcula e imprime la matriz de correlación del DataFrame\n",
    "    proporcionado, excluyendo la primera columna que se asume es el 'id'.\n",
    "    \n",
    "    Parámetros:\n",
    "    df (pd.DataFrame): El DataFrame que contiene los datos.\n",
    "    \"\"\"\n",
    "    # todas las columnas menos id\n",
    "    df_sin_id = df.iloc[:, 1:]\n",
    "    \n",
    "    # correlación\n",
    "    correlaciones_grupo = df_sin_id.corr()\n",
    "    \n",
    "    # Imprimimos\n",
    "    print(correlaciones_grupo)\n"
   ]
  },
  {
   "cell_type": "code",
   "execution_count": 64,
   "metadata": {},
   "outputs": [
    {
     "name": "stdout",
     "output_type": "stream",
     "text": [
      "               SepalLengthCm  SepalWidthCm  PetalLengthCm  PetalWidthCm\n",
      "SepalLengthCm       1.000000      0.945835       0.190850      0.207131\n",
      "SepalWidthCm        0.945835      1.000000       0.188959      0.248716\n",
      "PetalLengthCm       0.190850      0.188959       1.000000      0.306308\n",
      "PetalWidthCm        0.207131      0.248716       0.306308      1.000000\n",
      "               SepalLengthCm  SepalWidthCm  PetalLengthCm  PetalWidthCm\n",
      "SepalLengthCm       1.000000      0.525911       0.754049      0.546461\n",
      "SepalWidthCm        0.525911      1.000000       0.560522      0.663999\n",
      "PetalLengthCm       0.754049      0.560522       1.000000      0.786668\n",
      "PetalWidthCm        0.546461      0.663999       0.786668      1.000000\n",
      "               SepalLengthCm  SepalWidthCm  PetalLengthCm  PetalWidthCm\n",
      "SepalLengthCm       1.000000      0.947166       0.415550     -0.192603\n",
      "SepalWidthCm        0.947166      1.000000       0.328031     -0.089348\n",
      "PetalLengthCm       0.415550      0.328031       1.000000      0.322108\n",
      "PetalWidthCm       -0.192603     -0.089348       0.322108      1.000000\n"
     ]
    },
    {
     "name": "stderr",
     "output_type": "stream",
     "text": [
      "C:\\Users\\Hp\\AppData\\Local\\Temp\\ipykernel_14936\\2491566232.py:13: FutureWarning: The default value of numeric_only in DataFrame.corr is deprecated. In a future version, it will default to False. Select only valid columns or specify the value of numeric_only to silence this warning.\n",
      "  correlaciones_grupo = df_sin_id.corr()\n",
      "C:\\Users\\Hp\\AppData\\Local\\Temp\\ipykernel_14936\\2491566232.py:13: FutureWarning: The default value of numeric_only in DataFrame.corr is deprecated. In a future version, it will default to False. Select only valid columns or specify the value of numeric_only to silence this warning.\n",
      "  correlaciones_grupo = df_sin_id.corr()\n",
      "C:\\Users\\Hp\\AppData\\Local\\Temp\\ipykernel_14936\\2491566232.py:13: FutureWarning: The default value of numeric_only in DataFrame.corr is deprecated. In a future version, it will default to False. Select only valid columns or specify the value of numeric_only to silence this warning.\n",
      "  correlaciones_grupo = df_sin_id.corr()\n"
     ]
    }
   ],
   "source": [
    "correlaciones(grupo_setosa)\n",
    "correlaciones(grupo_versicolor)\n",
    "correlaciones(grupo_virginica)"
   ]
  },
  {
   "cell_type": "markdown",
   "metadata": {},
   "source": []
  },
  {
   "cell_type": "code",
   "execution_count": 65,
   "metadata": {},
   "outputs": [],
   "source": [
    "def linea_regresion(df):\n",
    "    #creo el modelo\n",
    "    modelo_sk = LinearRegression()\n",
    "\n",
    "    #entreno el modelo\n",
    "    modelo_entrenado = modelo_sk.fit(df[[\"PetalWidthCm\"]], df[\"PetalLengthCm\"])\n",
    "\n",
    "    #creo la columna \"y pred\" \n",
    "    df[\"y_pred\"] = modelo_entrenado.predict(df[[\"PetalWidthCm\"]])\n",
    "\n",
    "    #creo la columna \"Error Absoluto\"\n",
    "    df[\"Error_Absoluto\"] = abs(df[\"PetalLengthCm\"] - df[\"y_pred\"])\n",
    "\n",
    "    #creo la columna \"Error Cuadratico\"\n",
    "    df[\"Error_Cuadratico\"] = (df[\"PetalLengthCm\"] - df[\"y_pred\"])**2\n",
    "    \n",
    "    #grafico los resultados\n",
    "    plt.scatter(df[\"PetalWidthCm\"], df[\"PetalLengthCm\"], color='blue')\n",
    "    plt.plot(df[\"PetalWidthCm\"], df[\"y_pred\"], color='red')\n",
    "    \n",
    "    #imorimo DataFrame resultante\n",
    "    print(df.head())"
   ]
  },
  {
   "cell_type": "code",
   "execution_count": 66,
   "metadata": {},
   "outputs": [
    {
     "name": "stdout",
     "output_type": "stream",
     "text": [
      "   Id  SepalLengthCm  SepalWidthCm  PetalLengthCm  PetalWidthCm      Species  \\\n",
      "0   1          1.125         1.125            1.4           0.2  Iris-setosa   \n",
      "1   2          1.125         1.125            1.4           0.2  Iris-setosa   \n",
      "2   3          1.125         1.125            1.3           0.2  Iris-setosa   \n",
      "3   4          1.125         1.125            1.5           0.2  Iris-setosa   \n",
      "4   5          1.125         1.125            1.4           0.2  Iris-setosa   \n",
      "\n",
      "     y_pred  Error_Absoluto  Error_Cuadratico  \n",
      "0  1.442187        0.042188          0.001780  \n",
      "1  1.442187        0.042188          0.001780  \n",
      "2  1.442187        0.142187          0.020217  \n",
      "3  1.442187        0.057813          0.003342  \n",
      "4  1.442187        0.042188          0.001780  \n"
     ]
    },
    {
     "name": "stderr",
     "output_type": "stream",
     "text": [
      "C:\\Users\\Hp\\AppData\\Local\\Temp\\ipykernel_14936\\2064884464.py:9: SettingWithCopyWarning: \n",
      "A value is trying to be set on a copy of a slice from a DataFrame.\n",
      "Try using .loc[row_indexer,col_indexer] = value instead\n",
      "\n",
      "See the caveats in the documentation: https://pandas.pydata.org/pandas-docs/stable/user_guide/indexing.html#returning-a-view-versus-a-copy\n",
      "  df[\"y_pred\"] = modelo_entrenado.predict(df[[\"PetalWidthCm\"]])\n",
      "C:\\Users\\Hp\\AppData\\Local\\Temp\\ipykernel_14936\\2064884464.py:12: SettingWithCopyWarning: \n",
      "A value is trying to be set on a copy of a slice from a DataFrame.\n",
      "Try using .loc[row_indexer,col_indexer] = value instead\n",
      "\n",
      "See the caveats in the documentation: https://pandas.pydata.org/pandas-docs/stable/user_guide/indexing.html#returning-a-view-versus-a-copy\n",
      "  df[\"Error_Absoluto\"] = abs(df[\"PetalLengthCm\"] - df[\"y_pred\"])\n",
      "C:\\Users\\Hp\\AppData\\Local\\Temp\\ipykernel_14936\\2064884464.py:15: SettingWithCopyWarning: \n",
      "A value is trying to be set on a copy of a slice from a DataFrame.\n",
      "Try using .loc[row_indexer,col_indexer] = value instead\n",
      "\n",
      "See the caveats in the documentation: https://pandas.pydata.org/pandas-docs/stable/user_guide/indexing.html#returning-a-view-versus-a-copy\n",
      "  df[\"Error_Cuadratico\"] = (df[\"PetalLengthCm\"] - df[\"y_pred\"])**2\n"
     ]
    },
    {
     "data": {
      "image/png": "[encoded data removed]",
      "text/plain": [
       "<Figure size 640x480 with 1 Axes>"
      ]
     },
     "metadata": {},
     "output_type": "display_data"
    }
   ],
   "source": [
    "linea_regresion(grupo_setosa)"
   ]
  },
  {
   "cell_type": "code",
   "execution_count": 67,
   "metadata": {},
   "outputs": [
    {
     "name": "stdout",
     "output_type": "stream",
     "text": [
      "    Id  SepalLengthCm  SepalWidthCm  PetalLengthCm  PetalWidthCm  \\\n",
      "50  51            7.0           3.2            4.7           1.4   \n",
      "51  52            6.4           3.2            4.5           1.5   \n",
      "52  53            6.9           3.1            4.9           1.5   \n",
      "53  54            5.5           2.3            4.0           1.3   \n",
      "54  55            6.5           2.8            4.6           1.5   \n",
      "\n",
      "            Species    y_pred  Error_Absoluto  Error_Cuadratico  \n",
      "50  Iris-versicolor  4.398330        0.301670          0.091005  \n",
      "51  Iris-versicolor  4.585262        0.085262          0.007270  \n",
      "52  Iris-versicolor  4.585262        0.314738          0.099060  \n",
      "53  Iris-versicolor  4.211398        0.211398          0.044689  \n",
      "54  Iris-versicolor  4.585262        0.014738          0.000217  \n"
     ]
    },
    {
     "name": "stderr",
     "output_type": "stream",
     "text": [
      "C:\\Users\\Hp\\AppData\\Local\\Temp\\ipykernel_14936\\2064884464.py:9: SettingWithCopyWarning: \n",
      "A value is trying to be set on a copy of a slice from a DataFrame.\n",
      "Try using .loc[row_indexer,col_indexer] = value instead\n",
      "\n",
      "See the caveats in the documentation: https://pandas.pydata.org/pandas-docs/stable/user_guide/indexing.html#returning-a-view-versus-a-copy\n",
      "  df[\"y_pred\"] = modelo_entrenado.predict(df[[\"PetalWidthCm\"]])\n",
      "C:\\Users\\Hp\\AppData\\Local\\Temp\\ipykernel_14936\\2064884464.py:12: SettingWithCopyWarning: \n",
      "A value is trying to be set on a copy of a slice from a DataFrame.\n",
      "Try using .loc[row_indexer,col_indexer] = value instead\n",
      "\n",
      "See the caveats in the documentation: https://pandas.pydata.org/pandas-docs/stable/user_guide/indexing.html#returning-a-view-versus-a-copy\n",
      "  df[\"Error_Absoluto\"] = abs(df[\"PetalLengthCm\"] - df[\"y_pred\"])\n",
      "C:\\Users\\Hp\\AppData\\Local\\Temp\\ipykernel_14936\\2064884464.py:15: SettingWithCopyWarning: \n",
      "A value is trying to be set on a copy of a slice from a DataFrame.\n",
      "Try using .loc[row_indexer,col_indexer] = value instead\n",
      "\n",
      "See the caveats in the documentation: https://pandas.pydata.org/pandas-docs/stable/user_guide/indexing.html#returning-a-view-versus-a-copy\n",
      "  df[\"Error_Cuadratico\"] = (df[\"PetalLengthCm\"] - df[\"y_pred\"])**2\n"
     ]
    },
    {
     "data": {
      "image/png": "[encoded data removed]",
      "text/plain": [
       "<Figure size 640x480 with 1 Axes>"
      ]
     },
     "metadata": {},
     "output_type": "display_data"
    }
   ],
   "source": [
    "linea_regresion(grupo_versicolor)"
   ]
  },
  {
   "cell_type": "code",
   "execution_count": 68,
   "metadata": {},
   "outputs": [
    {
     "name": "stdout",
     "output_type": "stream",
     "text": [
      "      Id  SepalLengthCm  SepalWidthCm  PetalLengthCm  PetalWidthCm  \\\n",
      "100  101            6.3           3.3            6.0           2.5   \n",
      "101  102            5.8           2.7            5.1           1.9   \n",
      "102  103            7.1           3.0            5.9           2.1   \n",
      "103  104            6.3           2.9            5.6           1.8   \n",
      "104  105            6.5           3.0            5.8           2.2   \n",
      "\n",
      "            Species    y_pred  Error_Absoluto  Error_Cuadratico  \n",
      "100  Iris-virginica  5.858801        0.141199          0.019937  \n",
      "101  Iris-virginica  5.470445        0.370445          0.137230  \n",
      "102  Iris-virginica  5.599897        0.300103          0.090062  \n",
      "103  Iris-virginica  5.405719        0.194281          0.037745  \n",
      "104  Iris-virginica  5.664623        0.135377          0.018327  \n"
     ]
    },
    {
     "name": "stderr",
     "output_type": "stream",
     "text": [
      "C:\\Users\\Hp\\AppData\\Local\\Temp\\ipykernel_14936\\2064884464.py:9: SettingWithCopyWarning: \n",
      "A value is trying to be set on a copy of a slice from a DataFrame.\n",
      "Try using .loc[row_indexer,col_indexer] = value instead\n",
      "\n",
      "See the caveats in the documentation: https://pandas.pydata.org/pandas-docs/stable/user_guide/indexing.html#returning-a-view-versus-a-copy\n",
      "  df[\"y_pred\"] = modelo_entrenado.predict(df[[\"PetalWidthCm\"]])\n",
      "C:\\Users\\Hp\\AppData\\Local\\Temp\\ipykernel_14936\\2064884464.py:12: SettingWithCopyWarning: \n",
      "A value is trying to be set on a copy of a slice from a DataFrame.\n",
      "Try using .loc[row_indexer,col_indexer] = value instead\n",
      "\n",
      "See the caveats in the documentation: https://pandas.pydata.org/pandas-docs/stable/user_guide/indexing.html#returning-a-view-versus-a-copy\n",
      "  df[\"Error_Absoluto\"] = abs(df[\"PetalLengthCm\"] - df[\"y_pred\"])\n",
      "C:\\Users\\Hp\\AppData\\Local\\Temp\\ipykernel_14936\\2064884464.py:15: SettingWithCopyWarning: \n",
      "A value is trying to be set on a copy of a slice from a DataFrame.\n",
      "Try using .loc[row_indexer,col_indexer] = value instead\n",
      "\n",
      "See the caveats in the documentation: https://pandas.pydata.org/pandas-docs/stable/user_guide/indexing.html#returning-a-view-versus-a-copy\n",
      "  df[\"Error_Cuadratico\"] = (df[\"PetalLengthCm\"] - df[\"y_pred\"])**2\n"
     ]
    },
    {
     "data": {
      "image/png": "[encoded data removed]",
      "text/plain": [
       "<Figure size 640x480 with 1 Axes>"
      ]
     },
     "metadata": {},
     "output_type": "display_data"
    }
   ],
   "source": [
    "linea_regresion(grupo_virginica)"
   ]
  },
  {
   "cell_type": "markdown",
   "metadata": {},
   "source": [
    "¿La suma de los Errores Cuadraticos del apartado 27 es igual a la\n",
    "suma los tres calculados en este apartado?\n",
    "¿La suma de los Errores Absolutos del apartado 27 es igual a la suma\n",
    "los tres calculados en este apartado?\n",
    "Compare si las medias de cada una de las variables num ́ericas son\n",
    "estad ́ısticamente iguales al resto de categor ́ıas."
   ]
  },
  {
   "cell_type": "code",
   "execution_count": 69,
   "metadata": {},
   "outputs": [
    {
     "data": {
      "text/html": [
       "<div>\n",
       "<style scoped>\n",
       "    .dataframe tbody tr th:only-of-type {\n",
       "        vertical-align: middle;\n",
       "    }\n",
       "\n",
       "    .dataframe tbody tr th {\n",
       "        vertical-align: top;\n",
       "    }\n",
       "\n",
       "    .dataframe thead th {\n",
       "        text-align: right;\n",
       "    }\n",
       "</style>\n",
       "<table border=\"1\" class=\"dataframe\">\n",
       "  <thead>\n",
       "    <tr style=\"text-align: right;\">\n",
       "      <th></th>\n",
       "      <th>grupo</th>\n",
       "      <th>valores</th>\n",
       "    </tr>\n",
       "  </thead>\n",
       "  <tbody>\n",
       "    <tr>\n",
       "      <th>0</th>\n",
       "      <td>df</td>\n",
       "      <td>33.907869</td>\n",
       "    </tr>\n",
       "    <tr>\n",
       "      <th>1</th>\n",
       "      <td>setosa</td>\n",
       "      <td>1.336790</td>\n",
       "    </tr>\n",
       "    <tr>\n",
       "      <th>2</th>\n",
       "      <td>versicolor</td>\n",
       "      <td>4.124079</td>\n",
       "    </tr>\n",
       "    <tr>\n",
       "      <th>3</th>\n",
       "      <td>virginica</td>\n",
       "      <td>13.376297</td>\n",
       "    </tr>\n",
       "  </tbody>\n",
       "</table>\n",
       "</div>"
      ],
      "text/plain": [
       "        grupo    valores\n",
       "0          df  33.907869\n",
       "1      setosa   1.336790\n",
       "2  versicolor   4.124079\n",
       "3   virginica  13.376297"
      ]
     },
     "execution_count": 69,
     "metadata": {},
     "output_type": "execute_result"
    }
   ],
   "source": [
    "\n",
    "error_cuadratico = pd.DataFrame({\n",
    "    \"grupo\": [\"df\",\"setosa\",\"versicolor\",\"virginica\",],\n",
    "    \"valores\": [df_iris3[\"Error_Cuadratico\"].sum(),grupo_setosa[\"Error_Cuadratico\"].sum(),grupo_versicolor[\"Error_Cuadratico\"].sum(),grupo_virginica[\"Error_Cuadratico\"].sum()]\n",
    "                                })\n",
    "\n",
    "error_cuadratico\n",
    "\n",
    "# Las sumas son muy diferentes"
   ]
  },
  {
   "cell_type": "code",
   "execution_count": 70,
   "metadata": {},
   "outputs": [
    {
     "data": {
      "text/html": [
       "<div>\n",
       "<style scoped>\n",
       "    .dataframe tbody tr th:only-of-type {\n",
       "        vertical-align: middle;\n",
       "    }\n",
       "\n",
       "    .dataframe tbody tr th {\n",
       "        vertical-align: top;\n",
       "    }\n",
       "\n",
       "    .dataframe thead th {\n",
       "        text-align: right;\n",
       "    }\n",
       "</style>\n",
       "<table border=\"1\" class=\"dataframe\">\n",
       "  <thead>\n",
       "    <tr style=\"text-align: right;\">\n",
       "      <th></th>\n",
       "      <th>grupo</th>\n",
       "      <th>valores</th>\n",
       "    </tr>\n",
       "  </thead>\n",
       "  <tbody>\n",
       "    <tr>\n",
       "      <th>0</th>\n",
       "      <td>df</td>\n",
       "      <td>55.182016</td>\n",
       "    </tr>\n",
       "    <tr>\n",
       "      <th>1</th>\n",
       "      <td>setosa</td>\n",
       "      <td>6.380114</td>\n",
       "    </tr>\n",
       "    <tr>\n",
       "      <th>2</th>\n",
       "      <td>versicolor</td>\n",
       "      <td>11.035863</td>\n",
       "    </tr>\n",
       "    <tr>\n",
       "      <th>3</th>\n",
       "      <td>virginica</td>\n",
       "      <td>21.134657</td>\n",
       "    </tr>\n",
       "  </tbody>\n",
       "</table>\n",
       "</div>"
      ],
      "text/plain": [
       "        grupo    valores\n",
       "0          df  55.182016\n",
       "1      setosa   6.380114\n",
       "2  versicolor  11.035863\n",
       "3   virginica  21.134657"
      ]
     },
     "execution_count": 70,
     "metadata": {},
     "output_type": "execute_result"
    }
   ],
   "source": [
    "\n",
    "error_absoluto = pd.DataFrame({\n",
    "    \"grupo\": [\"df\",\"setosa\",\"versicolor\",\"virginica\",],\n",
    "    \"valores\": [df_iris3[\"Error_Absoluto\"].sum(),grupo_setosa[\"Error_Absoluto\"].sum(),grupo_versicolor[\"Error_Absoluto\"].sum(),grupo_virginica[\"Error_Absoluto\"].sum()]\n",
    "                              })\n",
    "\n",
    "error_absoluto\n",
    "\n",
    "# las sumas son muy diferentes\n"
   ]
  },
  {
   "cell_type": "code",
   "execution_count": 85,
   "metadata": {},
   "outputs": [
    {
     "name": "stdout",
     "output_type": "stream",
     "text": [
      "\n",
      "Comparaciones para la variable: SepalLengthCm\n",
      "\n",
      "Las medias de Setosa y Versicolor son estadísticamente diferentes para SepalLengthCm. p-valor: 6.170118241988663e-14\n",
      "Las medias de Setosa y Virginica son estadísticamente diferentes para SepalLengthCm. p-valor: 8.284215072478573e-07\n",
      "Las medias de Versicolor y Virginica son estadísticamente diferentes para SepalLengthCm. p-valor: 0.022892943486195402\n",
      "\n",
      "Comparaciones para la variable: SepalWidthCm\n",
      "\n",
      "Las medias de Setosa y Versicolor son estadísticamente diferentes para SepalWidthCm. p-valor: 1.0900002735172774e-08\n",
      "Las medias de Setosa y Virginica son estadísticamente diferentes para SepalWidthCm. p-valor: 1.4136149063314834e-07\n",
      "No hay diferencia estadística en las medias de Versicolor y Virginica para SepalWidthCm. p-valor: 0.8163769141997934\n",
      "\n",
      "Comparaciones para la variable: PetalLengthCm\n",
      "\n",
      "Las medias de Setosa y Versicolor son estadísticamente diferentes para PetalLengthCm. p-valor: 5.634269830542845e-18\n",
      "Las medias de Setosa y Virginica son estadísticamente diferentes para PetalLengthCm. p-valor: 5.648432865733372e-18\n",
      "Las medias de Versicolor y Virginica son estadísticamente diferentes para PetalLengthCm. p-valor: 9.133544727668259e-17\n",
      "\n",
      "Comparaciones para la variable: PetalWidthCm\n",
      "\n",
      "Las medias de Setosa y Versicolor son estadísticamente diferentes para PetalWidthCm. p-valor: 2.5081060795249738e-18\n",
      "Las medias de Setosa y Virginica son estadísticamente diferentes para PetalWidthCm. p-valor: 2.669258415638054e-18\n",
      "Las medias de Versicolor y Virginica son estadísticamente diferentes para PetalWidthCm. p-valor: 9.698045444914186e-17\n"
     ]
    }
   ],
   "source": [
    "\n",
    "from scipy.stats import mannwhitneyu\n",
    "\n",
    "\n",
    "# hacemos un for para comparar cada una de las variables numeros de los 3 grupos de categorias que ya tenemos.\n",
    "\n",
    "\n",
    "for i in listado_columnas5:\n",
    "\n",
    "    print(f\"\\nComparaciones para la variable: {i}\\n\")\n",
    "\n",
    "\n",
    "\n",
    "    estadistico1, p_valor1 = mannwhitneyu(grupo_setosa[i], grupo_versicolor[i])\n",
    "    if p_valor1 < 0.05:\n",
    "        print(f\"Las medias de Setosa y Versicolor son estadísticamente diferentes para {i}. p-valor:\", p_valor1)\n",
    "    else:\n",
    "        print(f\"No hay diferencia estadística en las medias de Setosa y Versicolor para {i}. p-valor:\", p_valor1)\n",
    "\n",
    "# Comparación entre setosa y virginica\n",
    "    estadistico2, p_valor2 = mannwhitneyu(grupo_setosa[i], grupo_virginica[i])\n",
    "    if p_valor2 < 0.05:\n",
    "        print(f\"Las medias de Setosa y Virginica son estadísticamente diferentes para {i}. p-valor:\", p_valor2)\n",
    "    else:\n",
    "        print(f\"No hay diferencia estadística en las medias de Setosa y Virginica para {i}. p-valor:\", p_valor2)\n",
    "\n",
    "# Comparación entre versicolor y virginica\n",
    "    estadistico3, p_valor3 = mannwhitneyu(grupo_versicolor[i], grupo_virginica[i])\n",
    "    if p_valor3 < 0.05:\n",
    "        print(f\"Las medias de Versicolor y Virginica son estadísticamente diferentes para {i}. p-valor:\", p_valor3)\n",
    "    else:\n",
    "        print(f\"No hay diferencia estadística en las medias de Versicolor y Virginica para {i}. p-valor:\", p_valor3)"
   ]
  }
 ],
 "metadata": {
  "kernelspec": {
   "display_name": "base",
   "language": "python",
   "name": "python3"
  },
  "language_info": {
   "codemirror_mode": {
    "name": "ipython",
    "version": 3
   },
   "file_extension": ".py",
   "mimetype": "text/x-python",
   "name": "python",
   "nbconvert_exporter": "python",
   "pygments_lexer": "ipython3",
   "version": "3.10.9"
  },
  "orig_nbformat": 4
 },
 "nbformat": 4,
 "nbformat_minor": 2
}
